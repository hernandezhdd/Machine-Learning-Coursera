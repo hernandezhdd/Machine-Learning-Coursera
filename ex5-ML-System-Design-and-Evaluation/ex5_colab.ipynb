{
  "cells": [
    {
      "cell_type": "markdown",
      "metadata": {
        "id": "view-in-github",
        "colab_type": "text"
      },
      "source": [
        "<a href=\"https://colab.research.google.com/github/hernandezhdd/Machine-Learning-Stanford/blob/main/ex5-ML-System-Design-and-Evaluation/ex5_colab.ipynb\" target=\"_parent\"><img src=\"https://colab.research.google.com/assets/colab-badge.svg\" alt=\"Open In Colab\"/></a>"
      ]
    },
    {
      "cell_type": "markdown",
      "source": [
        "# Exercise 5: Regularized Linear Regression and Bias-Variance\n",
        "\n",
        "### Instructions: \n",
        "Run the first cell to install the Octave kernel. After it installs, go to \"Runtime/Entorno de ejecucion\" and select \"Change runtime type/Cambiar entorno de ejecucion\". On the pop-up window select Octave and press Save, this will restart the kernel to use Octave."
      ],
      "metadata": {
        "id": "1QcLrYgCz0j1"
      },
      "id": "1QcLrYgCz0j1"
    },
    {
      "cell_type": "markdown",
      "source": [
        "\n",
        "### Octave Kernel Installation"
      ],
      "metadata": {
        "id": "1UyIdnD0z7aZ"
      },
      "id": "1UyIdnD0z7aZ"
    },
    {
      "cell_type": "code",
      "source": [
        "!apt install octave liboctave-dev\n",
        "!sudo apt-get update\n",
        "!pip install octave_kernel\n",
        "!python -m octave_kernel install --user"
      ],
      "metadata": {
        "id": "LSJyOmXyvbWG"
      },
      "execution_count": null,
      "outputs": [],
      "id": "LSJyOmXyvbWG"
    },
    {
      "cell_type": "markdown",
      "source": [
        "### Download files from Exercise 4 GitHub folder\n",
        "\n",
        "Run the next two cells to download the necessary function files, scripts and datasets."
      ],
      "metadata": {
        "id": "ZCSutR1__xR5"
      },
      "id": "ZCSutR1__xR5"
    },
    {
      "cell_type": "code",
      "source": [
        "!apt install subversion"
      ],
      "metadata": {
        "id": "Vl06tfxJ9MYH"
      },
      "execution_count": null,
      "outputs": [],
      "id": "Vl06tfxJ9MYH"
    },
    {
      "cell_type": "code",
      "source": [
        "!svn checkout https://github.com/hernandezhdd/Machine-Learning-Stanford/trunk/ex5-ML-System-Design-and-Evaluation"
      ],
      "metadata": {
        "id": "gEgzQ6bj7ef0"
      },
      "execution_count": null,
      "outputs": [],
      "id": "gEgzQ6bj7ef0"
    },
    {
      "cell_type": "markdown",
      "source": [
        "### Move files to /content folder"
      ],
      "metadata": {
        "id": "xA8XFnAv_3mo"
      },
      "id": "xA8XFnAv_3mo"
    },
    {
      "cell_type": "code",
      "source": [
        "!mv  -v ../content/ex5-ML-System-Design-and-Evaluation/* ../content/"
      ],
      "metadata": {
        "id": "qtsfyLzW9LOz"
      },
      "execution_count": null,
      "outputs": [],
      "id": "qtsfyLzW9LOz"
    },
    {
      "cell_type": "code",
      "execution_count": 1,
      "id": "6792e428",
      "metadata": {
        "id": "6792e428"
      },
      "outputs": [],
      "source": [
        "%% Machine Learning Online Class\n",
        "%  Exercise 5 | Regularized Linear Regression and Bias-Variance\n",
        "%\n",
        "%  Instructions\n",
        "%  ------------\n",
        "% \n",
        "%  This file contains code that helps you get started on the\n",
        "%  exercise. You will need to complete the following functions:\n",
        "%\n",
        "%     linearRegCostFunction.m\n",
        "%     learningCurve.m\n",
        "%     validationCurve.m\n",
        "%\n",
        "%  For this exercise, you will not need to change any code in this file,\n",
        "%  or any other files other than those mentioned above.\n",
        "%\n",
        "\n",
        "%% Initialization\n",
        "clear ;\n",
        "%close all;\n",
        "clc;\n",
        "graphics_toolkit (\"gnuplot\");"
      ]
    },
    {
      "cell_type": "code",
      "execution_count": 2,
      "id": "b3312a3c",
      "metadata": {
        "colab": {
          "base_uri": "https://localhost:8080/",
          "height": 454
        },
        "id": "b3312a3c",
        "outputId": "55221541-24b6-4785-9334-e7daa29930fd"
      },
      "outputs": [
        {
          "output_type": "stream",
          "name": "stdout",
          "text": [
            "Loading and Visualizing Data ...\r\n"
          ]
        },
        {
          "output_type": "display_data",
          "data": {
            "text/plain": [
              "<IPython.core.display.Image object>"
            ],
            "image/png": "[encoded data removed]"
          },
          "metadata": {}
        }
      ],
      "source": [
        "%% =========== Part 1: Loading and Visualizing Data =============\n",
        "%  We start the exercise by first loading and visualizing the dataset. \n",
        "%  The following code will load the dataset into your environment and plot\n",
        "%  the data.\n",
        "%\n",
        "\n",
        "% Load Training Data\n",
        "fprintf('Loading and Visualizing Data ...\\n')\n",
        "\n",
        "% Load from ex5data1: \n",
        "% You will have X, y, Xval, yval, Xtest, ytest in your environment\n",
        "load ('ex5data1.mat');\n",
        "\n",
        "% m = Number of examples\n",
        "m = size(X, 1);\n",
        "\n",
        "% Plot training data\n",
        "figure(1)\n",
        "plot(X, y, 'rx', 'MarkerSize', 10, 'LineWidth', 1.5);\n",
        "xlabel('Change in water level (x)');\n",
        "ylabel('Water flowing out of the dam (y)');"
      ]
    },
    {
      "cell_type": "code",
      "execution_count": 3,
      "id": "a22e2aa7",
      "metadata": {
        "colab": {
          "base_uri": "https://localhost:8080/"
        },
        "id": "a22e2aa7",
        "outputId": "08d04b8c-a7c1-4fd7-e6de-3ecf11fa58be"
      },
      "outputs": [
        {
          "output_type": "stream",
          "name": "stdout",
          "text": [
            "Cost at theta = [1 ; 1]: 303.993192 \r\n",
            "(this value should be about 303.993192)\r\n"
          ]
        }
      ],
      "source": [
        "%% =========== Part 2: Regularized Linear Regression Cost =============\n",
        "%  You should now implement the cost function for regularized linear \n",
        "##  regression. \n",
        "%\n",
        "\n",
        "theta = [1 ; 1];\n",
        "J = linearRegCostFunction([ones(m, 1) X], y, theta, 1);\n",
        "\n",
        "fprintf(['Cost at theta = [1 ; 1]: %f '...\n",
        "         '\\n(this value should be about 303.993192)\\n'], J);"
      ]
    },
    {
      "cell_type": "code",
      "execution_count": 4,
      "id": "8402ba87",
      "metadata": {
        "colab": {
          "base_uri": "https://localhost:8080/"
        },
        "id": "8402ba87",
        "outputId": "e8bce35a-836f-4de6-8f00-82fa8b12e3fb"
      },
      "outputs": [
        {
          "output_type": "stream",
          "name": "stdout",
          "text": [
            "Gradient at theta = [1 ; 1]:  [-15.303016; 598.250744] \r\n",
            "(this value should be about [-15.303016; 598.250744])\r\n"
          ]
        }
      ],
      "source": [
        "%% =========== Part 3: Regularized Linear Regression Gradient =============\n",
        "%  You should now implement the gradient for regularized linear \n",
        "%  regression.\n",
        "%\n",
        "\n",
        "theta = [1 ; 1];\n",
        "[J, grad] = linearRegCostFunction([ones(m, 1) X], y, theta, 1);\n",
        "\n",
        "fprintf(['Gradient at theta = [1 ; 1]:  [%f; %f] '...\n",
        "         '\\n(this value should be about [-15.303016; 598.250744])\\n'], ...\n",
        "         grad(1), grad(2));"
      ]
    },
    {
      "cell_type": "code",
      "execution_count": 5,
      "id": "f4203c74",
      "metadata": {
        "colab": {
          "base_uri": "https://localhost:8080/",
          "height": 454
        },
        "id": "f4203c74",
        "outputId": "c793d181-b0c0-4fe6-bb27-1547f2f67ce2"
      },
      "outputs": [
        {
          "output_type": "stream",
          "name": "stdout",
          "text": [
            "Iteration     1 | Cost: 1.052435e+02\rIteration     2 | Cost: 2.237391e+01\rIteration     3 | Cost: 2.237391e+01\rIteration     5 | Cost: 2.237391e+01\rIteration     6 | Cost: 2.237391e+01\r\r\n"
          ]
        },
        {
          "output_type": "display_data",
          "data": {
            "text/plain": [
              "<IPython.core.display.Image object>"
            ],
            "image/png": "[encoded data removed]"
          },
          "metadata": {}
        }
      ],
      "source": [
        "%% =========== Part 4: Train Linear Regression =============\n",
        "%  Once you have implemented the cost and gradient correctly, the\n",
        "%  trainLinearReg function will use your cost function to train \n",
        "%  regularized linear regression.\n",
        "% \n",
        "%  Write Up Note: The data is non-linear, so this will not give a great \n",
        "%                 fit.\n",
        "%\n",
        "\n",
        "%  Train linear regression with lambda = 0\n",
        "lambda = 0;\n",
        "[theta] = trainLinearReg([ones(m, 1) X], y, lambda);\n",
        "\n",
        "%  Plot fit over the data\n",
        "figure(1)\n",
        "plot(X, y, 'rx', 'MarkerSize', 10, 'LineWidth', 1.5);\n",
        "xlabel('Change in water level (x)');\n",
        "ylabel('Water flowing out of the dam (y)');\n",
        "hold on;\n",
        "plot(X, [ones(m, 1) X]*theta, '--', 'LineWidth', 2)"
      ]
    },
    {
      "cell_type": "code",
      "execution_count": null,
      "id": "1d5cd3df",
      "metadata": {
        "id": "1d5cd3df"
      },
      "outputs": [],
      "source": [
        "warning (\"off\", \"divide-by-zero\")\n",
        "%% =========== Part 5: Learning Curve for Linear Regression =============\n",
        "%  Next, you should implement the learningCurve function. \n",
        "%\n",
        "%  Write Up Note: Since the model is underfitting the data, we expect to\n",
        "%                 see a graph with \"high bias\" -- Figure 3 in ex5.pdf \n",
        "%\n",
        "\n",
        "lambda = 0;\n",
        "[error_train, error_val] = ...\n",
        "    learningCurve([ones(m, 1) X], y, ...\n",
        "                  [ones(size(Xval, 1), 1) Xval], yval, ...\n",
        "                  lambda);"
      ]
    },
    {
      "cell_type": "markdown",
      "source": [
        "Iteration    15 | Cost: 2.431725e+01  \n",
        "Iteration     6 | Cost: 2.237391e+01"
      ],
      "metadata": {
        "id": "vgQ4DgG2DM2g"
      },
      "id": "vgQ4DgG2DM2g"
    },
    {
      "cell_type": "code",
      "execution_count": 7,
      "id": "4a30fadd",
      "metadata": {
        "id": "4a30fadd"
      },
      "outputs": [],
      "source": [
        "error_train_lin_reg = error_train ;\n",
        "error_val_lin_reg = error_val;"
      ]
    },
    {
      "cell_type": "code",
      "execution_count": 8,
      "id": "994596b6",
      "metadata": {
        "colab": {
          "base_uri": "https://localhost:8080/",
          "height": 437
        },
        "id": "994596b6",
        "outputId": "12e7d1eb-20f5-43c0-ce1d-b4fe5f82d91b"
      },
      "outputs": [
        {
          "output_type": "display_data",
          "data": {
            "text/plain": [
              "<IPython.core.display.Image object>"
            ],
            "image/png": "[encoded data removed]"
          },
          "metadata": {}
        }
      ],
      "source": [
        "figure(2)\n",
        "plot(1:m, error_train, 1:m, error_val);\n",
        "title('Learning curve for linear regression');\n",
        "legend('Train', 'Cross Validation');\n",
        "xlabel('Number of training examples');\n",
        "ylabel('Error');\n",
        "##axis([0 13 0 150])"
      ]
    },
    {
      "cell_type": "code",
      "execution_count": 9,
      "id": "da301b74",
      "metadata": {
        "colab": {
          "base_uri": "https://localhost:8080/"
        },
        "id": "da301b74",
        "outputId": "5fceff47-0a25-40a2-951c-910e1d1471db"
      },
      "outputs": [
        {
          "output_type": "stream",
          "name": "stdout",
          "text": [
            "# Training Examples\tTrain Error\tCross Validation Error\n",
            "  \t1\t\t0.000000\t205.121096\n",
            "  \t2\t\t0.000000\t110.300366\n",
            "  \t3\t\t3.286595\t45.010231\n",
            "  \t4\t\t2.842678\t48.368911\n",
            "  \t5\t\t13.154049\t35.865165\n",
            "  \t6\t\t19.443963\t33.829962\n",
            "  \t7\t\t20.098522\t31.970986\n",
            "  \t8\t\t18.172859\t30.862446\n",
            "  \t9\t\t22.609405\t31.135998\n",
            "  \t10\t\t23.261462\t28.936207\n",
            "  \t11\t\t24.317250\t29.551432\n",
            "  \t12\t\t22.373906\t29.433818\n"
          ]
        }
      ],
      "source": [
        "fprintf('# Training Examples\\tTrain Error\\tCross Validation Error\\n');\n",
        "for i = 1:m\n",
        "    fprintf('  \\t%d\\t\\t%f\\t%f\\n', i, error_train(i), error_val(i));\n",
        "end"
      ]
    },
    {
      "cell_type": "code",
      "execution_count": 10,
      "id": "88e07e36",
      "metadata": {
        "colab": {
          "base_uri": "https://localhost:8080/"
        },
        "id": "88e07e36",
        "outputId": "15c93a8a-032b-40b3-ad7d-26f8972400a5"
      },
      "outputs": [
        {
          "output_type": "stream",
          "name": "stdout",
          "text": [
            "Normalized Training Example 1:\n",
            "  1.000000  \n",
            "  -0.362141  \n",
            "  -0.755087  \n",
            "  0.182226  \n",
            "  -0.706190  \n",
            "  0.306618  \n",
            "  -0.590878  \n",
            "  0.344516  \n",
            "  -0.508481  \n"
          ]
        }
      ],
      "source": [
        "%% =========== Part 6: Feature Mapping for Polynomial Regression =============\n",
        "%  One solution to this is to use polynomial regression. You should now\n",
        "%  complete polyFeatures to map each example into its powers\n",
        "%\n",
        "\n",
        "p = 8;\n",
        "\n",
        "% Map X onto Polynomial Features and Normalize\n",
        "X_poly = polyFeatures(X, p);\n",
        "[X_poly, mu, sigma] = featureNormalize(X_poly);  % Normalize\n",
        "X_poly = [ones(m, 1), X_poly];                   % Add Ones\n",
        "\n",
        "% Map X_poly_test and normalize (using mu and sigma)\n",
        "X_poly_test = polyFeatures(Xtest, p);\n",
        "X_poly_test = bsxfun(@minus, X_poly_test, mu);\n",
        "X_poly_test = bsxfun(@rdivide, X_poly_test, sigma);\n",
        "X_poly_test = [ones(size(X_poly_test, 1), 1), X_poly_test];         % Add Ones\n",
        "\n",
        "% Map X_poly_val and normalize (using mu and sigma)\n",
        "X_poly_val = polyFeatures(Xval, p);\n",
        "X_poly_val = bsxfun(@minus, X_poly_val, mu);\n",
        "X_poly_val = bsxfun(@rdivide, X_poly_val, sigma);\n",
        "X_poly_val = [ones(size(X_poly_val, 1), 1), X_poly_val];           % Add Ones\n",
        "\n",
        "fprintf('Normalized Training Example 1:\\n');\n",
        "fprintf('  %f  \\n', X_poly(1, :));"
      ]
    },
    {
      "cell_type": "code",
      "execution_count": 11,
      "id": "4c04193e",
      "metadata": {
        "colab": {
          "base_uri": "https://localhost:8080/",
          "height": 454
        },
        "id": "4c04193e",
        "outputId": "369d4db2-e0ea-47b0-e33e-4e974db34306"
      },
      "outputs": [
        {
          "output_type": "stream",
          "name": "stdout",
          "text": [
            "Iteration   200 | Cost: 8.066542e-02\n"
          ]
        },
        {
          "output_type": "display_data",
          "data": {
            "text/plain": [
              "<IPython.core.display.Image object>"
            ],
            "image/png": "[encoded data removed]"
          },
          "metadata": {}
        }
      ],
      "source": [
        "%% =========== Part 7: Learning Curve for Polynomial Regression =============\n",
        "%  Now, you will get to experiment with polynomial regression with multiple\n",
        "%  values of lambda. The code below runs polynomial regression with \n",
        "%  lambda = 0. You should try running the code with different values of\n",
        "%  lambda to see how the fit and learning curve change.\n",
        "%\n",
        "\n",
        "lambda = 0;\n",
        "[theta] = trainLinearReg(X_poly, y, lambda);\n",
        "\n",
        "% Plot training data and fit\n",
        "figure(1);\n",
        "%hold on\n",
        "plot(X, y, 'rx', 'MarkerSize', 10, 'LineWidth', 1.5);\n",
        "plotFit(min(X), max(X), mu, sigma, theta, p);\n",
        "xlabel('Change in water level (x)');\n",
        "ylabel('Water flowing out of the dam (y)');\n",
        "ylim([-20 50])\n",
        "\n",
        "title (sprintf('Polynomial Regression Fit (lambda = %f)', lambda));"
      ]
    },
    {
      "cell_type": "code",
      "execution_count": null,
      "id": "994a2f83",
      "metadata": {
        "id": "994a2f83"
      },
      "outputs": [],
      "source": [
        "[error_train, error_val] = ...\n",
        "    learningCurve(X_poly, y, X_poly_val, yval, lambda)"
      ]
    },
    {
      "cell_type": "code",
      "execution_count": 13,
      "id": "ec9e0d35",
      "metadata": {
        "id": "ec9e0d35"
      },
      "outputs": [],
      "source": [
        "error_train_poly = error_train ;\n",
        "error_val_poly = error_val;"
      ]
    },
    {
      "cell_type": "code",
      "execution_count": 14,
      "id": "092596ba",
      "metadata": {
        "colab": {
          "base_uri": "https://localhost:8080/",
          "height": 437
        },
        "id": "092596ba",
        "outputId": "85b60f7e-cf9c-422a-ca20-dbd88ca26996"
      },
      "outputs": [
        {
          "output_type": "display_data",
          "data": {
            "text/plain": [
              "<IPython.core.display.Image object>"
            ],
            "image/png": "[encoded data removed]"
          },
          "metadata": {}
        }
      ],
      "source": [
        "figure(2);\n",
        "hold on\n",
        "\n",
        "plot(1:m, error_train);\n",
        "\n",
        "plot( 1:m, error_val);\n",
        "title(sprintf('Polynomial Regression Learning Curve (lambda = %f)', lambda));\n",
        "xlabel('Number of training examples')\n",
        "ylabel('Error')\n",
        "axis([0 13 0 200])\n",
        "legend('Train', 'Cross Validation');\n",
        "scatter(1:m, error_train,600, 'b')\n",
        " % set (gca, \"yscale\", \"log\");"
      ]
    },
    {
      "cell_type": "code",
      "execution_count": 15,
      "id": "d0f94d71-96aa-4708-959f-3a7dcf77766c",
      "metadata": {
        "colab": {
          "base_uri": "https://localhost:8080/",
          "height": 437
        },
        "id": "d0f94d71-96aa-4708-959f-3a7dcf77766c",
        "outputId": "5211185e-4643-4a1e-b4b8-0ac92594b45b"
      },
      "outputs": [
        {
          "output_type": "display_data",
          "data": {
            "text/plain": [
              "<IPython.core.display.Image object>"
            ],
            "image/png": "[encoded data removed]"
          },
          "metadata": {}
        }
      ],
      "source": [
        "figure(2);\n",
        "hold on\n",
        "\n",
        "plot(1:m, error_train);\n",
        "\n",
        "plot( 1:m, error_val);\n",
        "title(sprintf('Polynomial Regression Learning Curve (lambda = %f)', lambda));\n",
        "xlabel('Number of training examples')\n",
        "ylabel('Error')\n",
        "axis([0 13 0 200])\n",
        "legend('Train', 'Cross Validation');\n",
        "scatter(1:m, error_train,600, 'b')\n",
        " set (gca, \"yscale\", \"log\");"
      ]
    },
    {
      "cell_type": "code",
      "execution_count": 16,
      "id": "34b23e73",
      "metadata": {
        "colab": {
          "base_uri": "https://localhost:8080/"
        },
        "id": "34b23e73",
        "outputId": "70508092-88a2-4c31-f516-91f2cb9a4d6b"
      },
      "outputs": [
        {
          "output_type": "stream",
          "name": "stdout",
          "text": [
            "Polynomial Regression (lambda = 0.000000)\r\n",
            "\n",
            "# Training Examples\tTrain Error\tCross Validation Error\n",
            "  \t1\t\t0.000000\t160.721900\n",
            "  \t2\t\t0.000000\t160.121510\n",
            "  \t3\t\t0.000000\t61.754825\n",
            "  \t4\t\t0.000000\t61.928895\n",
            "  \t5\t\t0.000000\t6.597868\n",
            "  \t6\t\t0.000000\t10.648000\n",
            "  \t7\t\t0.003638\t20.228139\n",
            "  \t8\t\t0.060668\t7.910575\n",
            "  \t9\t\t0.149785\t7.340642\n",
            "  \t10\t\t0.112466\t7.018152\n",
            "  \t11\t\t0.146981\t8.909447\n",
            "  \t12\t\t0.080665\t7.673685\n"
          ]
        }
      ],
      "source": [
        "fprintf('Polynomial Regression (lambda = %f)\\n\\n', lambda);\n",
        "fprintf('# Training Examples\\tTrain Error\\tCross Validation Error\\n');\n",
        "for i = 1:m\n",
        "    fprintf('  \\t%d\\t\\t%f\\t%f\\n', i, error_train(i), error_val(i));\n",
        "end"
      ]
    },
    {
      "cell_type": "code",
      "execution_count": null,
      "id": "c0b88713",
      "metadata": {
        "id": "c0b88713"
      },
      "outputs": [],
      "source": [
        "%% =========== Part 8: Validation for Selecting Lambda =============\n",
        "%  You will now implement validationCurve to test various values of \n",
        "%  lambda on a validation set. You will then use this to select the\n",
        "%  \"best\" lambda value.\n",
        "%\n",
        "\n",
        "[lambda_vec, error_train, error_val] = ...\n",
        "    validationCurve(X_poly, y, X_poly_val, yval);"
      ]
    },
    {
      "cell_type": "markdown",
      "source": [
        "Iteration    22 | Cost: 2.614252e+01  \n",
        "Iteration    31 | Cost: 2.974781e+01  \n",
        "Iteration    22 | Cost: 3.337220e+01"
      ],
      "metadata": {
        "id": "8PHX2O4iDr_y"
      },
      "id": "8PHX2O4iDr_y"
    },
    {
      "cell_type": "code",
      "execution_count": 18,
      "id": "77183e11",
      "metadata": {
        "colab": {
          "base_uri": "https://localhost:8080/",
          "height": 437
        },
        "id": "77183e11",
        "outputId": "af4b1284-0e8d-4b97-b514-d935ed5088a4"
      },
      "outputs": [
        {
          "output_type": "display_data",
          "data": {
            "text/plain": [
              "<IPython.core.display.Image object>"
            ],
            "image/png": "[encoded data removed]"
          },
          "metadata": {}
        }
      ],
      "source": [
        "figure(3)\n",
        "##plot(lambda_vec, error_train, lambda_vec, error_val);\n",
        "semilogx(lambda_vec, error_train, lambda_vec, error_val);\n",
        "legend('Train', 'Cross Validation');\n",
        "xlabel('lambda');\n",
        "ylabel('Error');"
      ]
    },
    {
      "cell_type": "code",
      "execution_count": 19,
      "id": "70f299c5",
      "metadata": {
        "colab": {
          "base_uri": "https://localhost:8080/"
        },
        "id": "70f299c5",
        "outputId": "8954ee10-7635-4561-cc51-2cd2d34ecc8a"
      },
      "outputs": [
        {
          "output_type": "stream",
          "name": "stdout",
          "text": [
            "Minimum validation error is  3.8428\r\n",
            " for lambda =  2.6470\r\n"
          ]
        }
      ],
      "source": [
        "[min_err, idx] = min(error_val);\n",
        " \n",
        "printf('Minimum validation error is '), disp(min_err), printf(' for lambda = '), disp(lambda_vec(idx))"
      ]
    },
    {
      "cell_type": "code",
      "execution_count": 20,
      "id": "9b483307",
      "metadata": {
        "colab": {
          "base_uri": "https://localhost:8080/"
        },
        "id": "9b483307",
        "outputId": "a9864373-3ccb-497a-882f-cb52bb5e08fd"
      },
      "outputs": [
        {
          "output_type": "stream",
          "name": "stdout",
          "text": [
            "lambda\t\tTrain Error\tValidation Error\n",
            " 0.001000\t0.162745\t18.117015\n",
            " 0.003000\t0.175254\t16.827677\n",
            " 0.010000\t0.222129\t17.042267\n",
            " 0.012500\t0.231797\t16.415553\n",
            " 0.015625\t0.241298\t15.547194\n",
            " 0.019531\t0.253068\t14.689479\n",
            " 0.024414\t0.266815\t13.742725\n",
            " 0.030518\t0.283231\t12.752496\n",
            " 0.038147\t0.303279\t11.745107\n",
            " 0.047684\t0.327893\t10.734794\n",
            " 0.059605\t0.358263\t9.739173\n",
            " 0.074506\t0.395815\t8.776197\n",
            " 0.093132\t0.442293\t7.864078\n",
            " 0.116415\t0.499776\t7.021832\n",
            " 0.145519\t0.570636\t6.268897\n",
            " 0.181899\t0.657397\t5.623839\n",
            " 0.227374\t0.762502\t5.101873\n",
            " 0.284217\t0.888072\t4.711508\n",
            " 0.355271\t1.035783\t4.451123\n",
            " 0.444089\t1.207040\t4.306671\n",
            " 0.555112\t1.403564\t4.251690\n",
            " 0.693889\t1.628493\t4.250234\n",
            " 0.867362\t1.887936\t4.262543\n",
            " 1.084202\t2.192887\t4.252566\n",
            " 1.355253\t2.561311\t4.196173\n",
            " 1.694066\t3.020213\t4.089031\n",
            " 2.117582\t3.607357\t3.953352\n",
            " 2.646978\t4.372187\t3.842770\n",
            " 3.308722\t5.375264\t3.844288\n",
            " 4.135903\t6.685350\t4.075811\n",
            " 5.169879\t8.373409\t4.677559\n",
            " 6.462349\t10.503296\t5.796351\n",
            " 8.077936\t13.120025\t7.563582\n",
            " 10.000000\t16.092213\t9.945509\n"
          ]
        }
      ],
      "source": [
        "fprintf('lambda\\t\\tTrain Error\\tValidation Error\\n');\n",
        "for i = 1:length(lambda_vec)\n",
        "\tfprintf(' %f\\t%f\\t%f\\n', ...\n",
        "            lambda_vec(i), error_train(i), error_val(i));\n",
        "end"
      ]
    },
    {
      "cell_type": "code",
      "execution_count": 21,
      "id": "95123f43",
      "metadata": {
        "scrolled": true,
        "colab": {
          "base_uri": "https://localhost:8080/"
        },
        "id": "95123f43",
        "outputId": "246ef6c6-cf27-4f4f-b224-16ee6969e8f3"
      },
      "outputs": [
        {
          "output_type": "stream",
          "name": "stdout",
          "text": [
            "Iteration     1 | Cost: 8.399806e+01\rIteration     2 | Cost: 3.269007e+01\rIteration     3 | Cost: 2.029494e+01\rIteration     4 | Cost: 1.489189e+01\rIteration     5 | Cost: 1.473900e+01\rIteration     6 | Cost: 1.465100e+01\rIteration     7 | Cost: 1.464555e+01\rIteration     8 | Cost: 1.459512e+01\rIteration     9 | Cost: 1.457167e+01\rIteration    10 | Cost: 1.455722e+01\rIteration    11 | Cost: 1.455408e+01\rIteration    12 | Cost: 1.454658e+01\rIteration    13 | Cost: 1.454487e+01\rIteration    14 | Cost: 1.454477e+01\rIteration    15 | Cost: 1.454475e+01\rIteration    16 | Cost: 1.454470e+01\rIteration    17 | Cost: 1.454468e+01\rIteration    18 | Cost: 1.454467e+01\rIteration    19 | Cost: 1.454467e+01\rIteration    20 | Cost: 1.454466e+01\rIteration    21 | Cost: 1.454466e+01\rIteration    22 | Cost: 1.454466e+01\rIteration    23 | Cost: 1.454466e+01\rIteration    24 | Cost: 1.454466e+01\rIteration    25 | Cost: 1.454466e+01\rIteration    26 | Cost: 1.454466e+01\rIteration    27 | Cost: 1.454466e+01\rIteration    28 | Cost: 1.454466e+01\rIteration    29 | Cost: 1.454466e+01\rIteration    30 | Cost: 1.454466e+01\rIteration    31 | Cost: 1.454466e+01\rIteration    32 | Cost: 1.454466e+01\rIteration    33 | Cost: 1.454466e+01\rIteration    34 | Cost: 1.454466e+01\rIteration    35 | Cost: 1.454466e+01\rIteration    36 | Cost: 1.454466e+01\r\r\n"
          ]
        }
      ],
      "source": [
        "lambda = lambda_vec(idx);\n",
        "\n",
        "[theta] = trainLinearReg(X_poly, y, lambda);"
      ]
    },
    {
      "cell_type": "code",
      "execution_count": 22,
      "id": "24c5a0ec-7985-48d3-a279-e771508e0121",
      "metadata": {
        "colab": {
          "base_uri": "https://localhost:8080/",
          "height": 437
        },
        "id": "24c5a0ec-7985-48d3-a279-e771508e0121",
        "outputId": "35044c76-ac4d-4fc6-ba12-c3d7301f80df"
      },
      "outputs": [
        {
          "output_type": "display_data",
          "data": {
            "text/plain": [
              "<IPython.core.display.Image object>"
            ],
            "image/png": "[encoded data removed]"
          },
          "metadata": {}
        }
      ],
      "source": [
        "% Plot training data and fit\n",
        "figure(1);\n",
        "hold on\n",
        "plot(X, y, 'rx', 'MarkerSize', 10, 'LineWidth', 1.5);\n",
        "plotFit(min(X), max(X), mu, sigma, theta, p);\n",
        "ylim([-10 50])\n",
        "xlabel('Change in water level (x)');\n",
        "ylabel('Water flowing out of the dam (y)');\n",
        "title (sprintf('Polynomial Regression Fit (lambda = %f)', lambda));\n",
        "hold off"
      ]
    },
    {
      "cell_type": "code",
      "execution_count": null,
      "id": "d1fdb58e",
      "metadata": {
        "scrolled": true,
        "id": "d1fdb58e"
      },
      "outputs": [],
      "source": [
        "[error_train, error_val] = ...\n",
        "    learningCurve(X_poly, y, X_poly_val, yval, lambda);"
      ]
    },
    {
      "cell_type": "code",
      "execution_count": 24,
      "id": "3460c521",
      "metadata": {
        "colab": {
          "base_uri": "https://localhost:8080/",
          "height": 437
        },
        "id": "3460c521",
        "outputId": "636a5a7a-9e5c-4642-92dd-363be990a032"
      },
      "outputs": [
        {
          "output_type": "display_data",
          "data": {
            "text/plain": [
              "<IPython.core.display.Image object>"
            ],
            "image/png": "[encoded data removed]"
          },
          "metadata": {}
        }
      ],
      "source": [
        "figure(2);\n",
        "hold on\n",
        "\n",
        "width_of_line = 3;\n",
        "\n",
        "plot(1:m, error_train_lin_reg,'linewidth',width_of_line, 1:m, error_val_lin_reg,'linewidth',width_of_line);\n",
        "\n",
        "plot(1:m, error_train_poly,'linewidth',width_of_line, 1:m, error_val_poly,'linewidth',width_of_line);\n",
        "\n",
        "plot(1:m, error_train,'linewidth',width_of_line, 1:m, error_val,'linewidth',width_of_line);\n",
        "\n",
        "title(sprintf('Polynomial Regression Learning Curve (lambda = %f)', lambda));\n",
        "xlabel('Number of training examples')\n",
        "ylabel('Error')\n",
        "%grid()\n",
        "box()\n",
        "axis([0 13 0 100])\n",
        "h=legend('Train linear lambda = 0, high bias', 'CV linear lambda = 0, high bias', 'Train poly lambda = 0, high variance', 'CV poly lambda = 0, high variance', 'Train lambda = 0.25, best fit', 'CV lambda = 0.25, best fit');\n",
        "set (h, \"fontsize\", 11);"
      ]
    },
    {
      "cell_type": "code",
      "execution_count": 25,
      "id": "0228cc7f",
      "metadata": {
        "colab": {
          "base_uri": "https://localhost:8080/"
        },
        "id": "0228cc7f",
        "outputId": "2695a5b8-aac3-4876-d6a3-a25c8919dba6"
      },
      "outputs": [
        {
          "output_type": "stream",
          "name": "stdout",
          "text": [
            "Polynomial Regression (lambda = 2.646978)\r\n",
            "\n",
            "Cost in test set using lambda =  2.6470\n",
            " 3.4624\n"
          ]
        }
      ],
      "source": [
        "fprintf('Polynomial Regression (lambda = %f)\\n\\n', lambda);\n",
        "\n",
        "fprintf('Cost in test set using lambda = '), disp(lambda), disp(linearRegCostFunction(X_poly_test, ytest, theta, 0));"
      ]
    }
  ],
  "metadata": {
    "kernelspec": {
      "display_name": "Octave",
      "language": "octave",
      "name": "octave"
    },
    "language_info": {
      "file_extension": ".m",
      "help_links": [
        {
          "text": "GNU Octave",
          "url": "https://www.gnu.org/software/octave/support.html"
        },
        {
          "text": "Octave Kernel",
          "url": "https://github.com/Calysto/octave_kernel"
        },
        {
          "text": "MetaKernel Magics",
          "url": "https://metakernel.readthedocs.io/en/latest/source/README.html"
        }
      ],
      "mimetype": "text/x-octave",
      "name": "octave",
      "version": "5.2.0"
    },
    "colab": {
      "name": "ex5-colab.ipynb",
      "provenance": [],
      "include_colab_link": true
    },
    "gpuClass": "standard"
  },
  "nbformat": 4,
  "nbformat_minor": 5
}