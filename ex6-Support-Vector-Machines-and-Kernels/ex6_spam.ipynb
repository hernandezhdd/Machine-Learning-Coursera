{
 "cells": [
  {
   "cell_type": "code",
   "execution_count": 2,
   "id": "11a65770-78e4-4bd5-beed-1891bbb8af94",
   "metadata": {},
   "outputs": [],
   "source": [
    "%% Machine Learning Online Class\n",
    "%  Exercise 6 | Spam Classification with SVMs\n",
    "%\n",
    "%  Instructions\n",
    "%  ------------\n",
    "% \n",
    "%  This file contains code that helps you get started on the\n",
    "%  exercise. You will need to complete the following functions:\n",
    "%\n",
    "%     gaussianKernel.m\n",
    "%     dataset3Params.m\n",
    "%     processEmail.m\n",
    "%     emailFeatures.m\n",
    "%\n",
    "%  For this exercise, you will not need to change any code in this file,\n",
    "%  or any other files other than those mentioned above.\n",
    "%\n",
    "\n",
    "%% Initialization\n",
    "clear ; close all; clc\n",
    "\n",
    "graphics_toolkit (\"gnuplot\");\n",
    "page_output_immediately(1);"
   ]
  },
  {
   "cell_type": "code",
   "execution_count": 47,
   "id": "a3a35027-a9f8-46df-9170-bd7487a7bfa1",
   "metadata": {},
   "outputs": [
    {
     "name": "stdout",
     "output_type": "stream",
     "text": [
      "\n",
      "Preprocessing sample email (emailSample1.txt)\n",
      "file_contents = > Anyone knows how much it costs to host a web portal ?\n",
      ">\n",
      "Well, it depends on how many visitors you're expecting.\n",
      "This can be anywhere from less than 10 bucks a month to a couple of $100. \n",
      "You should checkout http://www.rackspace.com/ or perhaps Amazon EC2 \n",
      "if youre running something big..\n",
      "\n",
      "To unsubscribe yourself from this mailing list, send an email to:\n",
      "groupname-unsubscribe@egroups.com\n",
      "\n",
      "\n"
     ]
    }
   ],
   "source": [
    "%% ==================== Part 1: Email Preprocessing ====================\n",
    "%  To use an SVM to classify emails into Spam v.s. Non-Spam, you first need\n",
    "%  to convert each email into a vector of features. In this part, you will\n",
    "%  implement the preprocessing steps for each email. You should\n",
    "%  complete the code in processEmail.m to produce a word indices vector\n",
    "%  for a given email.\n",
    "\n",
    "fprintf('\\nPreprocessing sample email (emailSample1.txt)\\n');\n",
    "\n",
    "% Extract Features\n",
    "file_contents = readFile('emailSample1.txt')"
   ]
  },
  {
   "cell_type": "code",
   "execution_count": 48,
   "id": "92b4ccd9-6741-4448-92f4-1cfd3e95f9a9",
   "metadata": {},
   "outputs": [
    {
     "name": "stdout",
     "output_type": "stream",
     "text": []
    },
    {
     "name": "stdout",
     "output_type": "stream",
     "text": [
      "\n",
      "==== Processed Email ====\n",
      "\n",
      "anyon know how much it cost to host a web portal well it depend on how mani \n",
      "visitor you re expect thi can be anywher from less than number buck a month \n",
      "to a coupl of dollarnumb you should checkout httpaddr or perhap amazon ecnumb \n",
      "if your run someth big to unsubscrib yourself from thi mail list send an \n",
      "email to emailaddr \n",
      "\n",
      "=========================\n",
      "Word Indices: \n",
      " 86 916 794 1077 883 370 1699 790 1822 1831 883 431 1171 794 1002 1893 1364 592 1676 238 162 89 688 945 1663 1120 1062 1699 375 1162 479 1893 1510 799 1182 1237 810 1895 1440 1547 181 1699 1758 1896 688 1676 992 961 1477 71 530 1699 531\n",
      "\n"
     ]
    }
   ],
   "source": [
    "word_indices  = processEmail(file_contents);\n",
    "\n",
    "% Print Stats\n",
    "fprintf('Word Indices: \\n');\n",
    "fprintf(' %d', word_indices);\n",
    "fprintf('\\n\\n');"
   ]
  },
  {
   "cell_type": "code",
   "execution_count": 64,
   "id": "aabbd958-e0e0-4126-addd-0124e3922de7",
   "metadata": {},
   "outputs": [
    {
     "name": "stdout",
     "output_type": "stream",
     "text": [
      "\n",
      "Extracting features from sample email (emailSample1.txt)\n",
      "\n",
      "==== Processed Email ====\n",
      "\n",
      "anyon know how much it cost to host a web portal well it depend on how mani \n",
      "visitor you re expect thi can be anywher from less than number buck a month \n",
      "to a coupl of dollarnumb you should checkout httpaddr or perhap amazon ecnumb \n",
      "if your run someth big to unsubscrib yourself from thi mail list send an \n",
      "email to emailaddr \n",
      "\n",
      "=========================\n",
      "Length of feature vector: 1899\n",
      "Number of non-zero entries: 45\n"
     ]
    }
   ],
   "source": [
    "%% ==================== Part 2: Feature Extraction ====================\n",
    "%  Now, you will convert each email into a vector of features in R^n. \n",
    "%  You should complete the code in emailFeatures.m to produce a feature\n",
    "%  vector for a given email.\n",
    "\n",
    "fprintf('\\nExtracting features from sample email (emailSample1.txt)\\n');\n",
    "\n",
    "% Extract Features\n",
    "file_contents = readFile('emailSample1.txt');\n",
    "word_indices  = processEmail(file_contents);\n",
    "features      = emailFeatures(word_indices);\n",
    "\n",
    "% Print Stats\n",
    "fprintf('Length of feature vector: %d\\n', length(features));\n",
    "fprintf('Number of non-zero entries: %d\\n', sum(features > 0));"
   ]
  },
  {
   "cell_type": "code",
   "execution_count": 65,
   "id": "c22f2024-7281-495b-9707-6dc53a0a8940",
   "metadata": {},
   "outputs": [
    {
     "name": "stdout",
     "output_type": "stream",
     "text": [
      "\n",
      "Training Linear SVM (Spam Classification)\n",
      "(this may take 1 to 2 minutes) ...\n",
      "\n",
      "Training ......................................................................\n",
      "...............................................................................\n",
      "...............................................................................\n",
      "............................................................................. Done! \n",
      "\n",
      "Training Accuracy: 99.825000\n"
     ]
    }
   ],
   "source": [
    "%% =========== Part 3: Train Linear SVM for Spam Classification ========\n",
    "%  In this section, you will train a linear classifier to determine if an\n",
    "%  email is Spam or Not-Spam.\n",
    "\n",
    "% Load the Spam Email dataset\n",
    "% You will have X, y in your environment\n",
    "load('spamTrain.mat');\n",
    "\n",
    "fprintf('\\nTraining Linear SVM (Spam Classification)\\n')\n",
    "fprintf('(this may take 1 to 2 minutes) ...\\n')\n",
    "\n",
    "C = 0.1;\n",
    "model = svmTrain(X, y, C, @linearKernel);\n",
    "\n",
    "p = svmPredict(model, X);\n",
    "\n",
    "fprintf('Training Accuracy: %f\\n', mean(double(p == y)) * 100);"
   ]
  },
  {
   "cell_type": "code",
   "execution_count": 66,
   "id": "ba03059c-5a09-451f-9e8c-6860b46a29ef",
   "metadata": {},
   "outputs": [
    {
     "name": "stdout",
     "output_type": "stream",
     "text": [
      "\n",
      "Evaluating the trained Linear SVM on a test set ...\n",
      "Test Accuracy: 98.700000\n"
     ]
    }
   ],
   "source": [
    "%% =================== Part 4: Test Spam Classification ================\n",
    "%  After training the classifier, we can evaluate it on a test set. We have\n",
    "%  included a test set in spamTest.mat\n",
    "\n",
    "% Load the test dataset\n",
    "% You will have Xtest, ytest in your environment\n",
    "load('spamTest.mat');\n",
    "\n",
    "fprintf('\\nEvaluating the trained Linear SVM on a test set ...\\n')\n",
    "\n",
    "p = svmPredict(model, Xtest);\n",
    "\n",
    "fprintf('Test Accuracy: %f\\n', mean(double(p == ytest)) * 100);"
   ]
  },
  {
   "cell_type": "code",
   "execution_count": 68,
   "id": "0508da4c-43a8-4c3d-afc5-23b38d215851",
   "metadata": {},
   "outputs": [
    {
     "name": "stdout",
     "output_type": "stream",
     "text": [
      "\n",
      "Top predictors of spam: \n",
      " our             (0.502850) \n",
      " click           (0.467612) \n",
      " remov           (0.425991) \n",
      " guarante        (0.388477) \n",
      " visit           (0.375287) \n",
      " basenumb        (0.344022) \n",
      " dollar          (0.321556) \n",
      " will            (0.271134) \n",
      " price           (0.262924) \n",
      " most            (0.258520) \n",
      " pleas           (0.257244) \n",
      " lo              (0.255192) \n",
      " nbsp            (0.251879) \n",
      " ga              (0.248724) \n",
      " al              (0.241726) \n"
     ]
    }
   ],
   "source": [
    "%% ================= Part 5: Top Predictors of Spam ====================\n",
    "%  Since the model we are training is a linear SVM, we can inspect the\n",
    "%  weights learned by the model to understand better how it is determining\n",
    "%  whether an email is spam or not. The following code finds the words with\n",
    "%  the highest weights in the classifier. Informally, the classifier\n",
    "%  'thinks' that these words are the most likely indicators of spam.\n",
    "%\n",
    "\n",
    "% Sort the weights and obtin the vocabulary list\n",
    "[weight, idx] = sort(model.w, 'descend');\n",
    "vocabList = getVocabList();\n",
    "\n",
    "fprintf('\\nTop predictors of spam: \\n');\n",
    "for i = 1:15\n",
    "    fprintf(' %-15s (%f) \\n', vocabList{idx(i)}, weight(i));\n",
    "end"
   ]
  }
 ],
 "metadata": {
  "kernelspec": {
   "display_name": "Octave",
   "language": "octave",
   "name": "octave"
  },
  "language_info": {
   "file_extension": ".m",
   "help_links": [
    {
     "text": "GNU Octave",
     "url": "https://www.gnu.org/software/octave/support.html"
    },
    {
     "text": "Octave Kernel",
     "url": "https://github.com/Calysto/octave_kernel"
    },
    {
     "text": "MetaKernel Magics",
     "url": "https://metakernel.readthedocs.io/en/latest/source/README.html"
    }
   ],
   "mimetype": "text/x-octave",
   "name": "octave",
   "version": "5.2.0"
  }
 },
 "nbformat": 4,
 "nbformat_minor": 5
}
