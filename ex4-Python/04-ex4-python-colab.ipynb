{
  "cells": [
    {
      "cell_type": "markdown",
      "metadata": {
        "id": "view-in-github",
        "colab_type": "text"
      },
      "source": [
        "<a href=\"https://colab.research.google.com/github/hernandezhdd/Machine-Learning-Stanford/blob/main/ex4-Python/04-ex4-python-colab.ipynb\" target=\"_parent\"><img src=\"https://colab.research.google.com/assets/colab-badge.svg\" alt=\"Open In Colab\"/></a>"
      ]
    },
    {
      "cell_type": "markdown",
      "source": [
        "# Exercise 4 Python: Regularized Linear Regression and Bias-Variance"
      ],
      "metadata": {
        "id": "1QcLrYgCz0j1"
      },
      "id": "1QcLrYgCz0j1"
    },
    {
      "cell_type": "markdown",
      "source": [
        "### Download files from Exercise 4 GitHub folder\n",
        "\n",
        "Run the next two cells to download the necessary function files, scripts and datasets."
      ],
      "metadata": {
        "id": "ZCSutR1__xR5"
      },
      "id": "ZCSutR1__xR5"
    },
    {
      "cell_type": "code",
      "source": [
        "!apt install subversion"
      ],
      "metadata": {
        "id": "Vl06tfxJ9MYH"
      },
      "execution_count": null,
      "outputs": [],
      "id": "Vl06tfxJ9MYH"
    },
    {
      "cell_type": "code",
      "source": [
        "!svn checkout https://github.com/hernandezhdd/Machine-Learning-Stanford/trunk/ex4_py"
      ],
      "metadata": {
        "id": "gEgzQ6bj7ef0"
      },
      "execution_count": null,
      "outputs": [],
      "id": "gEgzQ6bj7ef0"
    },
    {
      "cell_type": "markdown",
      "source": [
        "### Move files to /content folder"
      ],
      "metadata": {
        "id": "xA8XFnAv_3mo"
      },
      "id": "xA8XFnAv_3mo"
    },
    {
      "cell_type": "code",
      "source": [
        "!mv  -v ../content/ex4_py/* ../content/"
      ],
      "metadata": {
        "id": "qtsfyLzW9LOz"
      },
      "execution_count": null,
      "outputs": [],
      "id": "qtsfyLzW9LOz"
    },
    {
      "cell_type": "code",
      "execution_count": 8,
      "id": "dcd8d582-c668-46e5-b396-da0c145a5ae4",
      "metadata": {
        "id": "dcd8d582-c668-46e5-b396-da0c145a5ae4"
      },
      "outputs": [],
      "source": [
        "# %% Machine Learning Online Class - Exercise 4 Neural Network Learning\n",
        "\n",
        "# %  Instructions\n",
        "# %  ------------\n",
        "# % \n",
        "# %  This file contains code that helps you get started on the\n",
        "# %  linear exercise. You will need to complete the following functions \n",
        "# %  in this exericse:\n",
        "# %\n",
        "# %     sigmoidGradient.m\n",
        "# %     randInitializeWeights.m\n",
        "# %     nnCostFunction.m\n",
        "# %\n",
        "# %  For this exercise, you will not need to change any code in this file,\n",
        "# %  or any other files other than those mentioned above."
      ]
    },
    {
      "cell_type": "code",
      "execution_count": 35,
      "id": "72dabc1e-8066-44b3-a2c8-622859aa21ef",
      "metadata": {
        "id": "72dabc1e-8066-44b3-a2c8-622859aa21ef",
        "outputId": "10d7280a-4f56-45b0-a52e-a3d00e155fe6",
        "colab": {
          "base_uri": "https://localhost:8080/"
        }
      },
      "outputs": [
        {
          "output_type": "stream",
          "name": "stdout",
          "text": [
            "Loading and Visualizing Data ...\n",
            "\n"
          ]
        }
      ],
      "source": [
        "print('Loading and Visualizing Data ...\\n')"
      ]
    },
    {
      "cell_type": "code",
      "execution_count": 51,
      "id": "7a1f7b0a-501f-4477-92e9-0c0cd7f7bfe3",
      "metadata": {
        "id": "7a1f7b0a-501f-4477-92e9-0c0cd7f7bfe3",
        "outputId": "47b58cd0-1c28-4b06-9d47-625101af1d73",
        "colab": {
          "base_uri": "https://localhost:8080/"
        }
      },
      "outputs": [
        {
          "output_type": "stream",
          "name": "stdout",
          "text": [
            "Loading and Visualizing Data ...\n",
            "\n"
          ]
        },
        {
          "output_type": "execute_result",
          "data": {
            "text/plain": [
              "5000"
            ]
          },
          "metadata": {},
          "execution_count": 51
        }
      ],
      "source": [
        "import scipy.io as scio\n",
        "\n",
        "# %% Setup the parameters you will use for this exercise\n",
        "input_layer_size  = 400  #% 20x20 Input Images of Digits\n",
        "hidden_layer_size = 25   #% 25 hidden units\n",
        "num_labels = 10          #% 10 labels, from 1 to 10   \n",
        "                          #% (note that we have mapped \"0\" to label 10)\n",
        "\n",
        "# %% =========== Part 1: Loading and Visualizing Data =============\n",
        "# %  We start the exercise by first loading and visualizing the dataset. \n",
        "# %  You will be working with a dataset that contains handwritten digits.\n",
        "# %\n",
        "\n",
        "# % Load Training Data\n",
        "print('Loading and Visualizing Data ...\\n')\n",
        "\n",
        "ex4data1 = scio.loadmat('ex4data1.mat')\n",
        "\n",
        "X = ex4data1['X']\n",
        "y = ex4data1['y']\n",
        "\n",
        "m = X.shape[0]\n",
        "m"
      ]
    },
    {
      "cell_type": "code",
      "source": [
        "X.shape"
      ],
      "metadata": {
        "id": "KwCcLzHOREWl",
        "outputId": "d319f965-d311-43b2-b523-e47519b6eb76",
        "colab": {
          "base_uri": "https://localhost:8080/"
        }
      },
      "id": "KwCcLzHOREWl",
      "execution_count": 53,
      "outputs": [
        {
          "output_type": "execute_result",
          "data": {
            "text/plain": [
              "(5000, 400)"
            ]
          },
          "metadata": {},
          "execution_count": 53
        }
      ]
    },
    {
      "cell_type": "code",
      "execution_count": 66,
      "id": "ae1ebcc8-a6cb-40e7-a5e6-9c16b4622ecb",
      "metadata": {
        "id": "ae1ebcc8-a6cb-40e7-a5e6-9c16b4622ecb",
        "outputId": "fe80d3ee-3562-429f-c0a5-abb2c8cd5baf",
        "colab": {
          "base_uri": "https://localhost:8080/",
          "height": 265
        }
      },
      "outputs": [
        {
          "output_type": "display_data",
          "data": {
            "text/plain": [
              "<Figure size 432x288 with 1 Axes>"
            ],
            "image/png": "[encoded data removed]"
          },
          "metadata": {
            "needs_background": "light"
          }
        }
      ],
      "source": [
        "# % Randomly select 100 data points to display\n",
        "# sel = randperm(size(X, 1));\n",
        "# sel = sel[1:100];\n",
        "\n",
        "# displayData(X[sel, :]);\n",
        "\n",
        "import matplotlib.pyplot as plt\n",
        "plt.imshow(-X[3500,:].reshape(20,20).T, cmap=plt.get_cmap('gray'))\n",
        "plt.show()"
      ]
    },
    {
      "cell_type": "code",
      "execution_count": 38,
      "id": "9d6b5f60-4227-449a-9955-e40f1a9132f1",
      "metadata": {
        "id": "9d6b5f60-4227-449a-9955-e40f1a9132f1",
        "outputId": "03190e45-8115-4100-8ec4-90d8b2cc6b4f",
        "colab": {
          "base_uri": "https://localhost:8080/"
        }
      },
      "outputs": [
        {
          "output_type": "stream",
          "name": "stdout",
          "text": [
            "\n",
            "Loading Saved Neural Network Parameters ...\n",
            "\n"
          ]
        },
        {
          "output_type": "execute_result",
          "data": {
            "text/plain": [
              "(10285, 1)"
            ]
          },
          "metadata": {},
          "execution_count": 38
        }
      ],
      "source": [
        "# %% ================ Part 2: Loading Parameters ================\n",
        "# % In this part of the exercise, we load some pre-initialized \n",
        "# % neural network parameters.\n",
        "\n",
        "import numpy as np\n",
        "import scipy\n",
        "\n",
        "print('\\nLoading Saved Neural Network Parameters ...\\n')\n",
        "\n",
        "# % Load the weights into variables Theta1 and Theta2\n",
        "\n",
        "ex4weights = scipy.io.loadmat('ex4weights.mat')\n",
        "\n",
        "Theta1 = ex4weights['Theta1']\n",
        "Theta2 = ex4weights['Theta2']\n",
        "\n",
        "# load('ex4weights.mat');\n",
        "\n",
        "# % Unroll parameters \n",
        "nn_params = np.append(Theta1 , Theta2)\n",
        "nn_params = nn_params.reshape(len(nn_params),1)\n",
        "nn_params.shape"
      ]
    },
    {
      "cell_type": "code",
      "execution_count": 39,
      "id": "6aede2ba-9d4e-4ae4-99a0-783c02702397",
      "metadata": {
        "id": "6aede2ba-9d4e-4ae4-99a0-783c02702397"
      },
      "outputs": [],
      "source": [
        "def nnCostFunction(nn_params, input_lyr_sz, hidd_lyr_sz, num_lbls, X, y, lmbd):\n",
        "                                   \n",
        "    # %NNCOSTFUNCTION Implements the neural network cost function for a two layer\n",
        "    # %neural network which performs classification\n",
        "    # %   [J grad] = NNCOSTFUNCTON(nn_params, hidd_lyr_sz, num_lbls, ...\n",
        "    # %   X, y, lmbd) computes the cost and gradient of the neural network. The\n",
        "    # %   parameters for the neural network are \"unrolled\" into the vector\n",
        "    # %   nn_params and need to be converted back into the weight matrices. \n",
        "    # % \n",
        "    # %   The returned parameter grad should be a \"unrolled\" vector of the\n",
        "    # %   partial derivatives of the neural network.\n",
        "    # %\n",
        "    # % Reshape nn_params back into the parameters Theta1 and Theta2, the weight matrices\n",
        "    # % for our 2 layer neural network\n",
        "    \n",
        "    import numpy as np\n",
        "    from sigmoid import sigmoid\n",
        "    \n",
        "    Theta1 = np.reshape(nn_params[0:hidd_lyr_sz * (input_lyr_sz + 1)], (hidd_lyr_sz, input_lyr_sz + 1))\n",
        "\n",
        "    Theta2 = np.reshape(nn_params[hidd_lyr_sz * (input_lyr_sz + 1):], (num_lbls, hidd_lyr_sz + 1))\n",
        "\n",
        "    # % Setup some useful variables\n",
        "    m = X.shape[0]\n",
        "\n",
        "    # % You need to return the following variables correctly \n",
        "\n",
        "    J = 0\n",
        "    Theta1_grad = np.zeros(Theta1.shape)\n",
        "    Theta2_grad = np.zeros(Theta2.shape)\n",
        "\n",
        "    # % Add ones to the X data matrix\n",
        "    \n",
        "    X = np.append(np.ones((m,1)), X, axis=1)\n",
        "    \n",
        "    # tic #QUE HAGO CON ESTO\n",
        "\n",
        "    # % ====================== YOUR CODE HERE ======================\n",
        "    # % Instructions: You should complete the code by working through the\n",
        "    # %               following parts.\n",
        "    # %\n",
        "    # % Part 1: Feedforward the neural network and return the cost in the\n",
        "    # %         variable J. After implementing Part 1, you can verify that your\n",
        "    # %         cost function computation is correct by verifying the cost\n",
        "    # %         computed in ex4.m\n",
        "    # %\n",
        "\n",
        "    yVec = np.zeros (( len(y), num_lbls))\n",
        "    y = y.reshape((len(y),1))\n",
        "\n",
        "    for k in range(0,num_lbls):\n",
        "        yVec[:,k] = np.where( y==k+1, 1,0 ).reshape((len(y)))\n",
        "        \n",
        "    # Variables' sizes X 5000X401 yVec 5000x10, Theta1 25x401, Theta2 10X26\n",
        "    # a2 5000X25 a3 \n",
        "\n",
        "    z2 = np.dot(X, Theta1.T)\n",
        "\n",
        "    a2 = sigmoid( z2)\n",
        "    a2 = np.append(np.ones((a2.shape[0],1)), a2, axis=1) # a2 5000X26 \n",
        "    \n",
        "    #h_theta\n",
        "    z3 = np.dot(a2, Theta2.T)\n",
        "\n",
        "    a3 = sigmoid( z3); # a3 5000X10\n",
        "\n",
        "    J = (1- yVec) * np.log (1 - a3)\n",
        "\n",
        "    J = J + yVec * np.log (a3)\n",
        "\n",
        "    J = - 1/m * np.sum (np.sum( J ))\n",
        "\n",
        "    J = J + 0.5*lmbd/m*  np.sum( np.sum( Theta1[:,1:]**2)) \n",
        "\n",
        "    J = J + 0.5*lmbd/m* np.sum( np.sum( Theta2[:,1:]**2))\n",
        "\n",
        "    # % Part 2: Implement the backpropagation algorithm to compute the gradients\n",
        "    # %         Theta1_grad and Theta2_grad. You should return the partial derivatives of\n",
        "    # %         the cost function with respect to Theta1 and Theta2 in Theta1_grad and\n",
        "    # %         Theta2_grad, respectively. After implementing Part 2, you can check\n",
        "    # %         that your implementation is correct by running checkNNGradients\n",
        "    # %\n",
        "    # %         Note: The vector y passed into the function is a vector of labels\n",
        "    # %               containing values from 1..K. You need to map this vector into a \n",
        "    # %               binary vector of 1's and 0's to be used with the neural network\n",
        "    # %               cost function.\n",
        "    # %\n",
        "    # %         Hint: We recommend implementing backpropagation using a for-loop\n",
        "    # %               over the training examples if you are implementing it for the \n",
        "    # %               first time.\n",
        "    # %\n",
        "\n",
        "    # Variables' sizes X 5000X401 yVec 5000x10, Theta1 25x401, Theta2 10X26\n",
        "    # a2 5000X25 a3 5000X10\n",
        "\n",
        "    Delta1 = np.zeros( (hidd_lyr_sz, input_lyr_sz+1) )\n",
        "\n",
        "    Delta2 = np.zeros( (num_lbls, hidd_lyr_sz+1 ))\n",
        "\n",
        "    delta3 = a3 - yVec\n",
        "    \n",
        "    # delta2 = (  (Theta2' * delta3')' .* ( (a2.*( 1 - a2 )) )) ;\n",
        "#     ##           26X10      10X5000          5000X26\n",
        "    delta2 = (  np.dot(Theta2.T, delta3.T) ).T\n",
        "    \n",
        "    delta2 = delta2* ( a2*( 1 - a2))\n",
        "    \n",
        "    Delta2 = Delta2 + np.dot(delta3.T, a2)\n",
        "    \n",
        "    delta1 = np.dot(Theta1.T, delta2[:,1:].T).T\n",
        "    \n",
        "    delta1 =  delta1 * ( X* ( 1-X ) )\n",
        "    \n",
        "    delta1 = np.sum( delta1)\n",
        "    \n",
        "    Delta1 = Delta1 + np.dot(delta2.T, X)[1:,:];  \n",
        "    \n",
        "    Theta1_grad = np.zeros( (hidd_lyr_sz, input_lyr_sz+1) )\n",
        "\n",
        "    Theta2_grad = np.zeros( (num_lbls, hidd_lyr_sz+1 ))\n",
        "    \n",
        "    Theta1_grad[:, 1:] = Delta1[:, 1:] / m;\n",
        "\n",
        "    Theta2_grad[:, 1:] = Delta2[:, 1:] / m;\n",
        "\n",
        "#     % Part 3: Implement regularization with the cost function and gradients.\n",
        "#     %\n",
        "#     %         Hint: You can implement this around the code for\n",
        "#     %               backpropagation. That is, you can compute the gradients for\n",
        "#     %               the regularization separately and then add them to Theta1_grad\n",
        "#     %               and Theta2_grad from Part 2.\n",
        "#     %\n",
        "#     Theta1_grad(:,2:end) = Theta1_grad(:,2:end) + lmbd/m * Theta1(:,2:end);\n",
        "\n",
        "#     Theta2_grad(:,2:end) = Theta2_grad(:,2:end) + lmbd/m * Theta2(:,2:end);\n",
        "\n",
        "#     % -------------------------------------------------------------\n",
        "\n",
        "#     % =========================================================================\n",
        "\n",
        "#     % Unroll gradients\n",
        "#     grad = [Theta1_grad(:) ; Theta2_grad(:)];\n",
        "\n",
        "#     tiempos=toc;\n",
        "\n",
        "    # return [J, grad, tiempos]\n",
        "\n",
        "    return J"
      ]
    },
    {
      "cell_type": "code",
      "execution_count": 40,
      "id": "5fdb3a07-e7b7-4be0-b80a-55e4f44b7774",
      "metadata": {
        "id": "5fdb3a07-e7b7-4be0-b80a-55e4f44b7774",
        "outputId": "7970978b-4d17-4260-bbaf-3669c3756b18",
        "colab": {
          "base_uri": "https://localhost:8080/"
        }
      },
      "outputs": [
        {
          "output_type": "stream",
          "name": "stdout",
          "text": [
            "\n",
            "Feedforward Using Neural Network ...\n",
            "\n"
          ]
        }
      ],
      "source": [
        "# %% ================ Part 3: Compute Cost (Feedforward) ================\n",
        "# %  To the neural network, you should first start by implementing the\n",
        "# %  feedforward part of the neural network that returns the cost only. You\n",
        "# %  should complete the code in nnCostFunction.m to return cost. After\n",
        "# %  implementing the feedforward to compute the cost, you can verify that\n",
        "# %  your implementation is correct by verifying that you get the same cost\n",
        "# %  as us for the fixed debugging parameters.\n",
        "# %\n",
        "# %  We suggest implementing the feedforward cost *without* regularization\n",
        "# %  first so that it will be easier for you to debug. Later, in part 4, you\n",
        "# %  will get to implement the regularized cost.\n",
        "# %\n",
        "print('\\nFeedforward Using Neural Network ...\\n')\n",
        "\n",
        "# % Weight regularization parameter (we set this to 0 here).\n",
        "lmbd = 0;"
      ]
    },
    {
      "cell_type": "code",
      "execution_count": 41,
      "id": "48b59690-721b-42e2-b153-f8e359280197",
      "metadata": {
        "id": "48b59690-721b-42e2-b153-f8e359280197",
        "outputId": "cb7a5a54-85dd-40d1-bdd7-d961496a138f",
        "colab": {
          "base_uri": "https://localhost:8080/"
        }
      },
      "outputs": [
        {
          "output_type": "stream",
          "name": "stdout",
          "text": [
            "Cost at parameters (loaded from ex4weights): 0.2876291651613189 \n",
            "(this value should be about 0.287629)\n",
            "\n"
          ]
        }
      ],
      "source": [
        "# from nnCostFunction import nnCostFunction\n",
        "\n",
        "J = nnCostFunction(nn_params, input_layer_size, hidden_layer_size, num_labels, X, y, lmbd)\n",
        "\n",
        "print(f'Cost at parameters (loaded from ex4weights): {J} \\n(this value should be about 0.287629)\\n');"
      ]
    },
    {
      "cell_type": "code",
      "execution_count": 42,
      "id": "99e8a429-0e9a-46e0-8817-a29e9217c3ed",
      "metadata": {
        "id": "99e8a429-0e9a-46e0-8817-a29e9217c3ed"
      },
      "outputs": [],
      "source": [
        "# Time taken to calculate cost function and gradients using unvectorized function\n",
        "# tiempos"
      ]
    },
    {
      "cell_type": "code",
      "execution_count": 43,
      "id": "4644f581-0cfa-4c38-a91a-a12d1d1f012c",
      "metadata": {
        "id": "4644f581-0cfa-4c38-a91a-a12d1d1f012c",
        "outputId": "ce4a593e-49f2-44ad-8f3f-db2ffc9828ba",
        "colab": {
          "base_uri": "https://localhost:8080/"
        }
      },
      "outputs": [
        {
          "output_type": "stream",
          "name": "stdout",
          "text": [
            "\n",
            "Checking Cost Function (w/ Regularization) ... \n",
            "\n",
            "Cost at parameters (loaded from ex4weights): 0.38376985909092365 \n",
            "(this value should be about 0.383770)\n",
            "\n"
          ]
        }
      ],
      "source": [
        "# %% =============== Part 4: Implement Regularization ===============\n",
        "# %  Once your cost function implementation is correct, you should now\n",
        "# %  continue to implement the regularization with the cost.\n",
        "# %\n",
        "\n",
        "print('\\nChecking Cost Function (w/ Regularization) ... \\n')\n",
        "\n",
        "# % Weight regularization parameter (we set this to 1 here).\n",
        "lmbd = 1;\n",
        "\n",
        "J = nnCostFunction(nn_params, input_layer_size, hidden_layer_size, num_labels, X, y, lmbd);\n",
        "\n",
        "print(f'Cost at parameters (loaded from ex4weights): {J} \\n(this value should be about 0.383770)\\n');"
      ]
    },
    {
      "cell_type": "code",
      "execution_count": 44,
      "id": "0d0d717d-dee6-4c26-ab25-86330e61b69c",
      "metadata": {
        "id": "0d0d717d-dee6-4c26-ab25-86330e61b69c"
      },
      "outputs": [],
      "source": [
        "# %% ================ Part 5: Sigmoid Gradient  ================\n",
        "# %  Before you start implementing the neural network, you will first\n",
        "# %  implement the gradient for the sigmoid function. You should complete the\n",
        "# %  code in the sigmoidGradient.m file.\n",
        "# %\n",
        "\n",
        "def sigmoidGradient(z):\n",
        "# %SIGMOIDGRADIENT returns the gradient of the sigmoid function\n",
        "# %evaluated at z\n",
        "# %   g = SIGMOIDGRADIENT(z) computes the gradient of the sigmoid function\n",
        "# %   evaluated at z. This should work regardless if z is a matrix or a\n",
        "# %   vector. In particular, if z is a vector or matrix, you should return\n",
        "# %   the gradient for each element.\n",
        "    \n",
        "    import numpy as np\n",
        "    from sigmoid import sigmoid\n",
        "    \n",
        "    z = np.array(z)\n",
        "    \n",
        "    g = np.zeros(z.shape)\n",
        "\n",
        "# % ====================== YOUR CODE HERE ======================\n",
        "# % Instructions: Compute the gradient of the sigmoid function evaluated at\n",
        "# %               each value of z (z can be a matrix, vector or scalar).\n",
        "\n",
        "    g = sigmoid(z) * (1 - sigmoid(z));\n",
        "    return g\n",
        "\n",
        "# % ============================================================="
      ]
    },
    {
      "cell_type": "code",
      "execution_count": 45,
      "id": "7c464553-8465-4a33-a905-55f189c4e1f7",
      "metadata": {
        "id": "7c464553-8465-4a33-a905-55f189c4e1f7",
        "outputId": "238e0977-babe-4749-c01c-503de6d6f9ae",
        "colab": {
          "base_uri": "https://localhost:8080/"
        }
      },
      "outputs": [
        {
          "output_type": "stream",
          "name": "stdout",
          "text": [
            "\n",
            "Evaluating sigmoid gradient...\n",
            "\n",
            "Sigmoid gradient evaluated at [-1 -0.5 0 0.5 1]:\n",
            "  \n",
            "[0.19661193 0.23500371 0.25       0.23500371 0.19661193]\n"
          ]
        }
      ],
      "source": [
        "print('\\nEvaluating sigmoid gradient...\\n')\n",
        "\n",
        "g = sigmoidGradient([-1, -0.5, 0, 0.5, 1])\n",
        "print('Sigmoid gradient evaluated at [-1 -0.5 0 0.5 1]:\\n  ')\n",
        "print(g)"
      ]
    },
    {
      "cell_type": "code",
      "execution_count": 46,
      "id": "41fec75d-e666-414d-bb16-e45ee897ed19",
      "metadata": {
        "id": "41fec75d-e666-414d-bb16-e45ee897ed19"
      },
      "outputs": [],
      "source": [
        "# %% ================ Part 6: Initializing Pameters ================\n",
        "# %  In this part of the exercise, you will be starting to implment a two\n",
        "# %  layer neural network that classifies digits. You will start by\n",
        "# %  implementing a function to initialize the weights of the neural network\n",
        "# %  (randInitializeWeights.m)\n",
        "\n",
        "def randInitializeWeights(L_in, L_out):\n",
        "    # %RANDINITIALIZEWEIGHTS Randomly initialize the weights of a layer with L_in\n",
        "    # %incoming connections and L_out outgoing connections\n",
        "    # %   W = RANDINITIALIZEWEIGHTS(L_in, L_out) randomly initializes the weights \n",
        "    # %   of a layer with L_in incoming connections and L_out outgoing \n",
        "    # %   connections. \n",
        "    # %\n",
        "    # %   Note that W should be set to a matrix of size(L_out, 1 + L_in) as\n",
        "    # %   the first column of W handles the \"bias\" terms\n",
        "    # %\n",
        "\n",
        "    # % You need to return the following variables correctly \n",
        "    W = np.zeros((L_out, 1 + L_in))\n",
        "\n",
        "    # % ====================== YOUR CODE HERE ======================\n",
        "    # % Instructions: Initialize W randomly so that we break the symmetry while\n",
        "    # %               training the neural network.\n",
        "    # %\n",
        "    # % Note: The first column of W corresponds to the parameters for the bias unit\n",
        "    # %\n",
        "\n",
        "    # % Randomly initialize the weights to small values\n",
        "    ##epsilon init = 0.12;\n",
        "    \n",
        "    epsilon_init = np.sqrt(6)/np.sqrt(L_in + L_out)\n",
        "\n",
        "    W = np.random.rand(L_out, 1 + L_in) * 2 * epsilon_init - epsilon_init\n",
        "\n",
        "    return W\n",
        "\n",
        "# % ========================================================================="
      ]
    },
    {
      "cell_type": "code",
      "execution_count": 47,
      "id": "17518287-2f85-4d1b-bf9d-2ef0cf9f0a2e",
      "metadata": {
        "id": "17518287-2f85-4d1b-bf9d-2ef0cf9f0a2e",
        "outputId": "230feba1-08ad-44ec-d7f2-ca92cd94a10e",
        "colab": {
          "base_uri": "https://localhost:8080/"
        }
      },
      "outputs": [
        {
          "output_type": "stream",
          "name": "stdout",
          "text": [
            "\n",
            "Initializing Neural Network Parameters ...\n",
            "\n"
          ]
        }
      ],
      "source": [
        "print('\\nInitializing Neural Network Parameters ...\\n')\n",
        "\n",
        "initial_Theta1 = randInitializeWeights(input_layer_size, hidden_layer_size)\n",
        "initial_Theta2 = randInitializeWeights(hidden_layer_size, num_labels)\n",
        "\n",
        "# % Unroll parameters\n",
        "initial_nn_params = np.append(initial_Theta1 , initial_Theta2)\n",
        "initial_nn_params = initial_nn_params.reshape(len(nn_params),1)"
      ]
    },
    {
      "cell_type": "code",
      "execution_count": 48,
      "id": "c44b1499-af01-4889-aa76-9bcb93e1f114",
      "metadata": {
        "id": "c44b1499-af01-4889-aa76-9bcb93e1f114",
        "outputId": "56ac6dae-8430-4e23-bf3d-6dfd556b0352",
        "colab": {
          "base_uri": "https://localhost:8080/"
        }
      },
      "outputs": [
        {
          "output_type": "stream",
          "name": "stdout",
          "text": [
            "\n",
            "Checking Backpropagation... \n",
            "\n"
          ]
        }
      ],
      "source": [
        "# %% =============== Part 7: Implement Backpropagation ===============\n",
        "# %  Once your cost matches up with ours, you should proceed to implement the\n",
        "# %  backpropagation algorithm for the neural network. You should add to the\n",
        "# %  code you've written in nnCostFunction.m to return the partial\n",
        "# %  derivatives of the parameters.\n",
        "# %\n",
        "print('\\nChecking Backpropagation... \\n');\n",
        "\n",
        "# %  Check gradients by running checkNNGradients\n",
        "# checkNNGradients;"
      ]
    },
    {
      "cell_type": "code",
      "execution_count": 49,
      "id": "877f1a5d-0615-42ab-b81e-aea983096333",
      "metadata": {
        "id": "877f1a5d-0615-42ab-b81e-aea983096333",
        "outputId": "f87f2147-ff28-4df6-f358-efd1de7a416f",
        "colab": {
          "base_uri": "https://localhost:8080/"
        }
      },
      "outputs": [
        {
          "output_type": "stream",
          "name": "stdout",
          "text": [
            "\n",
            "Loading Saved Neural Network Parameters ...\n",
            "\n",
            "Loading and Visualizing Data ...\n",
            "\n",
            "(5000, 10) (5000, 10)\n"
          ]
        }
      ],
      "source": [
        "# %% ================ Part 2: Loading Parameters ================\n",
        "# % In this part of the exercise, we load some pre-initialized \n",
        "# % neural network parameters.\n",
        "\n",
        "import numpy as np\n",
        "import scipy\n",
        "\n",
        "print('\\nLoading Saved Neural Network Parameters ...\\n')\n",
        "\n",
        "# % Load the weights into variables Theta1 and Theta2\n",
        "\n",
        "ex4weights = scipy.io.loadmat('ex4weights.mat')\n",
        "\n",
        "Theta1 = ex4weights['Theta1']\n",
        "Theta2 = ex4weights['Theta2']\n",
        "\n",
        "# load('ex4weights.mat');\n",
        "\n",
        "# % Unroll parameters \n",
        "nn_params = np.append(Theta1 , Theta2)\n",
        "nn_params = nn_params.reshape(len(nn_params),1)\n",
        "nn_params.shape\n",
        "\n",
        "\n",
        "\n",
        "nn_params, input_lyr_sz, hidd_lyr_sz, num_lbls, X, y, lmbd = nn_params, input_layer_size, hidden_layer_size, num_labels, X, y, lmbd\n",
        "\n",
        "import scipy.io as scio\n",
        "\n",
        "# %% Setup the parameters you will use for this exercise\n",
        "input_layer_size  = 400  #% 20x20 Input Images of Digits\n",
        "hidden_layer_size = 25   #% 25 hidden units\n",
        "num_labels = 10          #% 10 labels, from 1 to 10   \n",
        "                          #% (note that we have mapped \"0\" to label 10)\n",
        "\n",
        "# %% =========== Part 1: Loading and Visualizing Data =============\n",
        "# %  We start the exercise by first loading and visualizing the dataset. \n",
        "# %  You will be working with a dataset that contains handwritten digits.\n",
        "# %\n",
        "\n",
        "# % Load Training Data\n",
        "print('Loading and Visualizing Data ...\\n')\n",
        "\n",
        "ex4data1 = scio.loadmat('ex4data1.mat')\n",
        "\n",
        "X = ex4data1['X']\n",
        "y = ex4data1['y']\n",
        "\n",
        "m = X.shape[0]\n",
        "\n",
        "# %NNCOSTFUNCTION Implements the neural network cost function for a two layer\n",
        "# %neural network which performs classification\n",
        "# %   [J grad] = NNCOSTFUNCTON(nn_params, hidd_lyr_sz, num_lbls, ...\n",
        "# %   X, y, lmbd) computes the cost and gradient of the neural network. The\n",
        "# %   parameters for the neural network are \"unrolled\" into the vector\n",
        "# %   nn_params and need to be converted back into the weight matrices. \n",
        "# % \n",
        "# %   The returned parameter grad should be a \"unrolled\" vector of the\n",
        "# %   partial derivatives of the neural network.\n",
        "# %\n",
        "# % Reshape nn_params back into the parameters Theta1 and Theta2, the weight matrices\n",
        "# % for our 2 layer neural network\n",
        "\n",
        "import numpy as np\n",
        "    \n",
        "Theta1 = np.reshape(nn_params[0:hidd_lyr_sz * (input_lyr_sz + 1)], (hidd_lyr_sz, input_lyr_sz + 1))\n",
        "\n",
        "Theta2 = np.reshape(nn_params[hidd_lyr_sz * (input_lyr_sz + 1):], (num_lbls, hidd_lyr_sz + 1))\n",
        "\n",
        "# % Setup some useful variables\n",
        "m = X.shape[0]\n",
        "\n",
        "# % You need to return the following variables correctly \n",
        "\n",
        "J = 0\n",
        "Theta1_grad = np.zeros(Theta1.shape)\n",
        "Theta2_grad = np.zeros(Theta2.shape)\n",
        "\n",
        "# % Add ones to the X data matrix\n",
        "\n",
        "X = np.append(np.ones((m,1)), X, axis=1)\n",
        "\n",
        "# tic #QUE HAGO CON ESTO\n",
        "\n",
        "# % ====================== YOUR CODE HERE ======================\n",
        "# % Instructions: You should complete the code by working through the\n",
        "# %               following parts.\n",
        "# %\n",
        "# % Part 1: Feedforward the neural network and return the cost in the\n",
        "# %         variable J. After implementing Part 1, you can verify that your\n",
        "# %         cost function computation is correct by verifying the cost\n",
        "# %         computed in ex4.m\n",
        "# %\n",
        "\n",
        "# labelsVec = np.append(np.zeros((k,1)), 1)\n",
        "# labelsVec = np.append(labelsVec, np.zeros((num_lbls-k-1, 1)))\n",
        "# labelsVec = labelsVec.T\n",
        "\n",
        "import numpy.matlib\n",
        "\n",
        "# yVec = np.zeros (( len(y), 1, num_lbls+1))\n",
        "\n",
        "yVec = np.matlib.repmat(y, 1,num_lbls)\n",
        "\n",
        "for k in range(1,num_lbls+1):\n",
        "    yVec[:,k-1] = np.where( yVec[:,k-1]==k, 1,0 )\n",
        "\n",
        "    # idxs = np.find( y==k )\n",
        "\n",
        "    # WTFFF\n",
        "    # yVec[ idxs, : ] = repmat(labelsVec, length(idxs), 1)\n",
        "\n",
        "# Variables' sizes X 5000X401 yVec 5000x10, Theta1 25x401, Theta2 10X26\n",
        "# a2 5000X25 a3 \n",
        "\n",
        "z2 = np.dot(X, Theta1.T)\n",
        "\n",
        "from sigmoid import sigmoid\n",
        "\n",
        "a2 = sigmoid( z2)\n",
        "# [np.ones(m, 1) X]\n",
        "a2 = np.append(np.ones((a2.shape[0],1)), a2, axis=1)\n",
        "# a2 = [np.ones(a2.shape[0], 1) a2]; # a2 5000X26 \n",
        "\n",
        "#h_theta\n",
        "z3 = np.dot(a2, Theta2.T)\n",
        "\n",
        "# global a3\n",
        "\n",
        "a3 = sigmoid( z3); # a3 5000X10\n",
        "\n",
        "print(a3.shape, yVec.shape)\n",
        "\n",
        "J = (1- yVec) * np.log (1 - a3)\n",
        "\n",
        "J = J + yVec * np.log (a3)\n",
        "\n",
        "J = - 1/m * np.sum (np.sum( J ))\n",
        "\n",
        "J = J + 0.5*lmbd/m*  np.sum( np.sum( Theta1[:,1:]**2)) \n",
        "\n",
        "J = J + np.sum( np.sum( Theta2[:,1:]**2))"
      ]
    }
  ],
  "metadata": {
    "kernelspec": {
      "display_name": "Python 3 (ipykernel)",
      "language": "python",
      "name": "python3"
    },
    "language_info": {
      "codemirror_mode": {
        "name": "ipython",
        "version": 3
      },
      "file_extension": ".py",
      "mimetype": "text/x-python",
      "name": "python",
      "nbconvert_exporter": "python",
      "pygments_lexer": "ipython3",
      "version": "3.9.9"
    },
    "colab": {
      "name": "ex4_py.ipynb",
      "provenance": [],
      "include_colab_link": true
    }
  },
  "nbformat": 4,
  "nbformat_minor": 5
}
