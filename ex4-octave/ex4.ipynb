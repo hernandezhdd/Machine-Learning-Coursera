{
 "cells": [
  {
   "cell_type": "code",
   "execution_count": 1,
   "id": "3c92c6fe-6ddb-46a2-8679-b6da81bbe4b7",
   "metadata": {},
   "outputs": [],
   "source": [
    "%% Machine Learning Online Class - Exercise 4 Neural Network Learning\n",
    "\n",
    "%  Instructions\n",
    "%  ------------\n",
    "% \n",
    "%  This file contains code that helps you get started on the\n",
    "%  linear exercise. You will need to complete the following functions \n",
    "%  in this exericse:\n",
    "%\n",
    "%     sigmoidGradient.m\n",
    "%     randInitializeWeights.m\n",
    "%     nnCostFunction.m\n",
    "%\n",
    "%  For this exercise, you will not need to change any code in this file,\n",
    "%  or any other files other than those mentioned above.\n",
    "%\n",
    "\n",
    "%% Initialization\n",
    "clear ; close all; clc\n",
    "graphics_toolkit (\"gnuplot\");"
   ]
  },
  {
   "cell_type": "code",
   "execution_count": null,
   "id": "96eec945-3494-4680-9c55-d1cf91b0e93c",
   "metadata": {},
   "outputs": [
    {
     "name": "stdout",
     "output_type": "stream",
     "text": [
      "Loading and Visualizing Data ...\n"
     ]
    },
    {
     "data": {
      "image/png": "[encoded data removed]",
      "text/plain": [
       "<IPython.core.display.Image object>"
      ]
     },
     "metadata": {},
     "output_type": "display_data"
    }
   ],
   "source": [
    "%% Setup the parameters you will use for this exercise\n",
    "input_layer_size  = 400;  % 20x20 Input Images of Digits\n",
    "hidden_layer_size = 25;   % 25 hidden units\n",
    "num_labels = 10;          % 10 labels, from 1 to 10   \n",
    "                          % (note that we have mapped \"0\" to label 10)\n",
    "\n",
    "%% =========== Part 1: Loading and Visualizing Data =============\n",
    "%  We start the exercise by first loading and visualizing the dataset. \n",
    "%  You will be working with a dataset that contains handwritten digits.\n",
    "%\n",
    "\n",
    "% Load Training Data\n",
    "fprintf('Loading and Visualizing Data ...\\n')\n",
    "\n",
    "load('ex4data1.mat');\n",
    "##size(X)\n",
    "##X=X(1:100,:);\n",
    "##y=y(1:100);\n",
    "m = size(X, 1);\n",
    "\n",
    "% Randomly select 100 data points to display\n",
    "sel = randperm(size(X, 1));\n",
    "sel = sel(1:100);\n",
    "\n",
    "displayData(X(sel, :));"
   ]
  },
  {
   "cell_type": "code",
   "execution_count": 3,
   "id": "1961d9cc-d59f-4ea3-87fe-c46bb1b70e66",
   "metadata": {},
   "outputs": [
    {
     "name": "stdout",
     "output_type": "stream",
     "text": [
      "\n",
      "Loading Saved Neural Network Parameters ...\n"
     ]
    }
   ],
   "source": [
    "%% ================ Part 2: Loading Parameters ================\n",
    "% In this part of the exercise, we load some pre-initialized \n",
    "% neural network parameters.\n",
    "\n",
    "fprintf('\\nLoading Saved Neural Network Parameters ...\\n')\n",
    "\n",
    "% Load the weights into variables Theta1 and Theta2\n",
    "load('ex4weights.mat');\n",
    "\n",
    "% Unroll parameters \n",
    "nn_params = [Theta1(:) ; Theta2(:)];"
   ]
  },
  {
   "cell_type": "code",
   "execution_count": 12,
   "id": "6389aebb-7e60-48a2-92ed-0e688edddcab",
   "metadata": {},
   "outputs": [
    {
     "name": "stdout",
     "output_type": "stream",
     "text": [
      "\n",
      "Feedforward Using Neural Network ...\n",
      "Iteraration number 500\n",
      " from a total of 5000\n",
      "Iteraration number 1000\n",
      " from a total of 5000\n",
      "Iteraration number 1500\n",
      " from a total of 5000\n",
      "Iteraration number 2000\n",
      " from a total of 5000\n",
      "Iteraration number 2500\n",
      " from a total of 5000\n",
      "Iteraration number 3000\n",
      " from a total of 5000\n",
      "Iteraration number 3500\n",
      " from a total of 5000\n",
      "Iteraration number 4000\n",
      " from a total of 5000\n",
      "Iteraration number 4500\n",
      " from a total of 5000\n",
      "Iteraration number 5000\n",
      " from a total of 5000\n",
      "Cost at parameters (loaded from ex4weights): 0.287629 \n",
      "(this value should be about 0.287629)\n"
     ]
    }
   ],
   "source": [
    "%% ================ Part 3: Compute Cost (Feedforward) ================\n",
    "%  To the neural network, you should first start by implementing the\n",
    "%  feedforward part of the neural network that returns the cost only. You\n",
    "%  should complete the code in nnCostFunction.m to return cost. After\n",
    "%  implementing the feedforward to compute the cost, you can verify that\n",
    "%  your implementation is correct by verifying that you get the same cost\n",
    "%  as us for the fixed debugging parameters.\n",
    "%\n",
    "%  We suggest implementing the feedforward cost *without* regularization\n",
    "%  first so that it will be easier for you to debug. Later, in part 4, you\n",
    "%  will get to implement the regularized cost.\n",
    "%\n",
    "fprintf('\\nFeedforward Using Neural Network ...\\n')\n",
    "\n",
    "% Weight regularization parameter (we set this to 0 here).\n",
    "lambda = 0;\n",
    "\n",
    "J = nnCostFunction(nn_params, input_layer_size, hidden_layer_size, ...\n",
    "                   num_labels, X, y, lambda);\n",
    "\n",
    "fprintf(['Cost at parameters (loaded from ex4weights): %f '...\n",
    "         '\\n(this value should be about 0.287629)\\n'], J);"
   ]
  },
  {
   "cell_type": "code",
   "execution_count": 13,
   "id": "2947ea0f-d427-4f63-a0c4-919b8c8bb3f8",
   "metadata": {},
   "outputs": [
    {
     "name": "stdout",
     "output_type": "stream",
     "text": [
      "\n",
      "Checking Cost Function (w/ Regularization) ... \n",
      "Iteraration number 500\n",
      " from a total of 5000\n",
      "Iteraration number 1000\n",
      " from a total of 5000\n",
      "Iteraration number 1500\n",
      " from a total of 5000\n",
      "Iteraration number 2000\n",
      " from a total of 5000\n",
      "Iteraration number 2500\n",
      " from a total of 5000\n",
      "Iteraration number 3000\n",
      " from a total of 5000\n",
      "Iteraration number 3500\n",
      " from a total of 5000\n",
      "Iteraration number 4000\n",
      " from a total of 5000\n",
      "Iteraration number 4500\n",
      " from a total of 5000\n",
      "Iteraration number 5000\n",
      " from a total of 5000\n",
      "Cost at parameters (loaded from ex4weights): 0.383770 \n",
      "(this value should be about 0.383770)\n"
     ]
    }
   ],
   "source": [
    "%% =============== Part 4: Implement Regularization ===============\n",
    "%  Once your cost function implementation is correct, you should now\n",
    "%  continue to implement the regularization with the cost.\n",
    "%\n",
    "\n",
    "fprintf('\\nChecking Cost Function (w/ Regularization) ... \\n')\n",
    "\n",
    "% Weight regularization parameter (we set this to 1 here).\n",
    "lambda = 1;\n",
    "\n",
    "J = nnCostFunction(nn_params, input_layer_size, hidden_layer_size, ...\n",
    "                   num_labels, X, y, lambda);\n",
    "\n",
    "fprintf(['Cost at parameters (loaded from ex4weights): %f '...\n",
    "         '\\n(this value should be about 0.383770)\\n'], J);"
   ]
  },
  {
   "cell_type": "code",
   "execution_count": 6,
   "id": "096e200e-5941-47ae-a834-ee08a57f7b08",
   "metadata": {},
   "outputs": [
    {
     "name": "stdout",
     "output_type": "stream",
     "text": [
      "\n",
      "Evaluating sigmoid gradient...\n",
      "Sigmoid gradient evaluated at [-1 -0.5 0 0.5 1]:\n",
      "  0.196612 0.235004 0.250000 0.235004 0.196612 \n",
      "\n"
     ]
    }
   ],
   "source": [
    "%% ================ Part 5: Sigmoid Gradient  ================\n",
    "%  Before you start implementing the neural network, you will first\n",
    "%  implement the gradient for the sigmoid function. You should complete the\n",
    "%  code in the sigmoidGradient.m file.\n",
    "%\n",
    "\n",
    "fprintf('\\nEvaluating sigmoid gradient...\\n')\n",
    "\n",
    "g = sigmoidGradient([-1 -0.5 0 0.5 1]);\n",
    "fprintf('Sigmoid gradient evaluated at [-1 -0.5 0 0.5 1]:\\n  ');\n",
    "fprintf('%f ', g);\n",
    "fprintf('\\n\\n');"
   ]
  },
  {
   "cell_type": "code",
   "execution_count": 7,
   "id": "c118c45a-9392-4341-9c24-7fd0715ea8f7",
   "metadata": {},
   "outputs": [
    {
     "name": "stdout",
     "output_type": "stream",
     "text": [
      "\n",
      "Initializing Neural Network Parameters ...\n"
     ]
    }
   ],
   "source": [
    "%% ================ Part 6: Initializing Pameters ================\n",
    "%  In this part of the exercise, you will be starting to implment a two\n",
    "%  layer neural network that classifies digits. You will start by\n",
    "%  implementing a function to initialize the weights of the neural network\n",
    "%  (randInitializeWeights.m)\n",
    "\n",
    "fprintf('\\nInitializing Neural Network Parameters ...\\n')\n",
    "\n",
    "initial_Theta1 = randInitializeWeights(input_layer_size, hidden_layer_size);\n",
    "initial_Theta2 = randInitializeWeights(hidden_layer_size, num_labels);\n",
    "\n",
    "% Unroll parameters\n",
    "initial_nn_params = [initial_Theta1(:) ; initial_Theta2(:)];"
   ]
  },
  {
   "cell_type": "code",
   "execution_count": 8,
   "id": "cb035b0d-cdca-44d1-abb6-e2036ee4bc6c",
   "metadata": {},
   "outputs": [
    {
     "name": "stdout",
     "output_type": "stream",
     "text": [
      "\n",
      "Checking Backpropagation... \n",
      "  -9.2783e-03  -9.2783e-03\n",
      "   8.8991e-03   8.8991e-03\n",
      "  -8.3601e-03  -8.3601e-03\n",
      "   7.6281e-03   7.6281e-03\n",
      "  -6.7480e-03  -6.7480e-03\n",
      "  -3.0498e-06  -3.0498e-06\n",
      "   1.4287e-05   1.4287e-05\n",
      "  -2.5938e-05  -2.5938e-05\n",
      "   3.6988e-05   3.6988e-05\n",
      "  -4.6876e-05  -4.6876e-05\n",
      "  -1.7506e-04  -1.7506e-04\n",
      "   2.3315e-04   2.3315e-04\n",
      "  -2.8747e-04  -2.8747e-04\n",
      "   3.3532e-04   3.3532e-04\n",
      "  -3.7622e-04  -3.7622e-04\n",
      "  -9.6266e-05  -9.6266e-05\n",
      "   1.1798e-04   1.1798e-04\n",
      "  -1.3715e-04  -1.3715e-04\n",
      "   1.5325e-04   1.5325e-04\n",
      "  -1.6656e-04  -1.6656e-04\n",
      "   3.1454e-01   3.1454e-01\n",
      "   1.1106e-01   1.1106e-01\n",
      "   9.7401e-02   9.7401e-02\n",
      "   1.6409e-01   1.6409e-01\n",
      "   5.7574e-02   5.7574e-02\n",
      "   5.0458e-02   5.0458e-02\n",
      "   1.6457e-01   1.6457e-01\n",
      "   5.7787e-02   5.7787e-02\n",
      "   5.0753e-02   5.0753e-02\n",
      "   1.5834e-01   1.5834e-01\n",
      "   5.5924e-02   5.5924e-02\n",
      "   4.9162e-02   4.9162e-02\n",
      "   1.5113e-01   1.5113e-01\n",
      "   5.3697e-02   5.3697e-02\n",
      "   4.7146e-02   4.7146e-02\n",
      "   1.4957e-01   1.4957e-01\n",
      "   5.3154e-02   5.3154e-02\n",
      "   4.6560e-02   4.6560e-02\n",
      "The above two columns you get should be very similar.\n",
      "(Left-Your Numerical Gradient, Right-Analytical Gradient)\n",
      "\n",
      "If your backpropagation implementation is correct, then \n",
      "the relative difference will be small (less than 1e-9). \n",
      "\n",
      "Relative Difference: 2.28896e-11\n"
     ]
    }
   ],
   "source": [
    "%% =============== Part 7: Implement Backpropagation ===============\n",
    "%  Once your cost matches up with ours, you should proceed to implement the\n",
    "%  backpropagation algorithm for the neural network. You should add to the\n",
    "%  code you've written in nnCostFunction.m to return the partial\n",
    "%  derivatives of the parameters.\n",
    "%\n",
    "fprintf('\\nChecking Backpropagation... \\n');\n",
    "\n",
    "%  Check gradients by running checkNNGradients\n",
    "checkNNGradients;"
   ]
  },
  {
   "cell_type": "code",
   "execution_count": 9,
   "id": "69249028-3a4f-4ac1-9c02-42737cc7b315",
   "metadata": {},
   "outputs": [
    {
     "name": "stdout",
     "output_type": "stream",
     "text": [
      "\n",
      "Checking Backpropagation (w/ Regularization) ... \n",
      "  -9.2783e-03  -9.2783e-03\n",
      "   8.8991e-03   8.8991e-03\n",
      "  -8.3601e-03  -8.3601e-03\n",
      "   7.6281e-03   7.6281e-03\n",
      "  -6.7480e-03  -6.7480e-03\n",
      "  -1.6768e-02  -1.6768e-02\n",
      "   3.9433e-02   3.9433e-02\n",
      "   5.9336e-02   5.9336e-02\n",
      "   2.4764e-02   2.4764e-02\n",
      "  -3.2688e-02  -3.2688e-02\n",
      "  -6.0174e-02  -6.0174e-02\n",
      "  -3.1961e-02  -3.1961e-02\n",
      "   2.4923e-02   2.4923e-02\n",
      "   5.9772e-02   5.9772e-02\n",
      "   3.8641e-02   3.8641e-02\n",
      "  -1.7370e-02  -1.7370e-02\n",
      "  -5.7566e-02  -5.7566e-02\n",
      "  -4.5196e-02  -4.5196e-02\n",
      "   9.1459e-03   9.1459e-03\n",
      "   5.4610e-02   5.4610e-02\n",
      "   3.1454e-01   3.1454e-01\n",
      "   1.1106e-01   1.1106e-01\n",
      "   9.7401e-02   9.7401e-02\n",
      "   1.1868e-01   1.1868e-01\n",
      "   3.8193e-05   3.8193e-05\n",
      "   3.3693e-02   3.3693e-02\n",
      "   2.0399e-01   2.0399e-01\n",
      "   1.1715e-01   1.1715e-01\n",
      "   7.5480e-02   7.5480e-02\n",
      "   1.2570e-01   1.2570e-01\n",
      "  -4.0759e-03  -4.0759e-03\n",
      "   1.6968e-02   1.6968e-02\n",
      "   1.7634e-01   1.7634e-01\n",
      "   1.1313e-01   1.1313e-01\n",
      "   8.6163e-02   8.6163e-02\n",
      "   1.3229e-01   1.3229e-01\n",
      "  -4.5296e-03  -4.5296e-03\n",
      "   1.5005e-03   1.5005e-03\n",
      "The above two columns you get should be very similar.\n",
      "(Left-Your Numerical Gradient, Right-Analytical Gradient)\n",
      "\n",
      "If your backpropagation implementation is correct, then \n",
      "the relative difference will be small (less than 1e-9). \n",
      "\n",
      "Relative Difference: 2.21135e-11\n"
     ]
    }
   ],
   "source": [
    "%% =============== Part 8: Implement Regularization ===============\n",
    "%  Once your backpropagation implementation is correct, you should now\n",
    "%  continue to implement the regularization with the cost and gradient.\n",
    "%\n",
    "\n",
    "fprintf('\\nChecking Backpropagation (w/ Regularization) ... \\n')\n",
    "\n",
    "%  Check gradients by running checkNNGradients\n",
    "lambda = 3;\n",
    "checkNNGradients(lambda);"
   ]
  },
  {
   "cell_type": "code",
   "execution_count": 17,
   "id": "7dac69a8-a74c-4c6e-8d2c-8d4a650ee7bb",
   "metadata": {},
   "outputs": [
    {
     "name": "stdout",
     "output_type": "stream",
     "text": [
      "Iteraration number 500\n",
      " from a total of 5000\n",
      "Iteraration number 1000\n",
      " from a total of 5000\n",
      "Iteraration number 1500\n",
      " from a total of 5000\n",
      "Iteraration number 2000\n",
      " from a total of 5000\n",
      "Iteraration number 2500\n",
      " from a total of 5000\n",
      "Iteraration number 3000\n",
      " from a total of 5000\n",
      "Iteraration number 3500\n",
      " from a total of 5000\n",
      "Iteraration number 4000\n",
      " from a total of 5000\n",
      "Iteraration number 4500\n",
      " from a total of 5000\n",
      "Iteraration number 5000\n",
      " from a total of 5000\n",
      "\n",
      "\n",
      "Cost at (fixed) debugging parameters (w/ lambda = 3.000000): 0.576051 \n",
      "(for lambda = 3, this value should be about 0.576051)\n",
      "\n"
     ]
    }
   ],
   "source": [
    "% Also output the costFunction debugging values\n",
    "debug_J  = nnCostFunction(nn_params, input_layer_size, ...\n",
    "                          hidden_layer_size, num_labels, X, y, lambda);\n",
    "\n",
    "fprintf(['\\n\\nCost at (fixed) debugging parameters (w/ lambda = %f): %f ' ...\n",
    "         '\\n(for lambda = 3, this value should be about 0.576051)\\n\\n'], lambda, debug_J);"
   ]
  }
 ],
 "metadata": {
  "kernelspec": {
   "display_name": "Octave",
   "language": "octave",
   "name": "octave"
  },
  "language_info": {
   "file_extension": ".m",
   "help_links": [
    {
     "text": "GNU Octave",
     "url": "https://www.gnu.org/software/octave/support.html"
    },
    {
     "text": "Octave Kernel",
     "url": "https://github.com/Calysto/octave_kernel"
    },
    {
     "text": "MetaKernel Magics",
     "url": "https://metakernel.readthedocs.io/en/latest/source/README.html"
    }
   ],
   "mimetype": "text/x-octave",
   "name": "octave",
   "version": "6.4.0"
  }
 },
 "nbformat": 4,
 "nbformat_minor": 5
}
