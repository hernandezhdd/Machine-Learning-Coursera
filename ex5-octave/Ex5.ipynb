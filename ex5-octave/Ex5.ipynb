{
 "cells": [
  {
   "cell_type": "code",
   "execution_count": 25,
   "id": "6792e428",
   "metadata": {},
   "outputs": [],
   "source": [
    "%% Machine Learning Online Class\n",
    "%  Exercise 5 | Regularized Linear Regression and Bias-Variance\n",
    "%\n",
    "%  Instructions\n",
    "%  ------------\n",
    "% \n",
    "%  This file contains code that helps you get started on the\n",
    "%  exercise. You will need to complete the following functions:\n",
    "%\n",
    "%     linearRegCostFunction.m\n",
    "%     learningCurve.m\n",
    "%     validationCurve.m\n",
    "%\n",
    "%  For this exercise, you will not need to change any code in this file,\n",
    "%  or any other files other than those mentioned above.\n",
    "%\n",
    "\n",
    "%% Initialization\n",
    "clear ;\n",
    "%close all;\n",
    "clc;\n",
    "graphics_toolkit (\"gnuplot\");"
   ]
  },
  {
   "cell_type": "code",
   "execution_count": 27,
   "id": "b3312a3c",
   "metadata": {},
   "outputs": [
    {
     "name": "stdout",
     "output_type": "stream",
     "text": [
      "Loading and Visualizing Data ...\n"
     ]
    },
    {
     "data": {
      "image/png": "[encoded data removed]",
      "text/plain": [
       "<IPython.core.display.Image object>"
      ]
     },
     "metadata": {},
     "output_type": "display_data"
    }
   ],
   "source": [
    "%% =========== Part 1: Loading and Visualizing Data =============\n",
    "%  We start the exercise by first loading and visualizing the dataset. \n",
    "%  The following code will load the dataset into your environment and plot\n",
    "%  the data.\n",
    "%\n",
    "\n",
    "% Load Training Data\n",
    "fprintf('Loading and Visualizing Data ...\\n')\n",
    "\n",
    "% Load from ex5data1: \n",
    "% You will have X, y, Xval, yval, Xtest, ytest in your environment\n",
    "load ('ex5data1.mat');\n",
    "\n",
    "% m = Number of examples\n",
    "m = size(X, 1);\n",
    "\n",
    "% Plot training data\n",
    "figure(1)\n",
    "plot(X, y, 'rx', 'MarkerSize', 10, 'LineWidth', 1.5);\n",
    "xlabel('Change in water level (x)');\n",
    "ylabel('Water flowing out of the dam (y)');"
   ]
  },
  {
   "cell_type": "code",
   "execution_count": 28,
   "id": "a22e2aa7",
   "metadata": {},
   "outputs": [
    {
     "name": "stdout",
     "output_type": "stream",
     "text": [
      "Cost at theta = [1 ; 1]: 303.993192 \n",
      "(this value should be about 303.993192)\n"
     ]
    }
   ],
   "source": [
    "%% =========== Part 2: Regularized Linear Regression Cost =============\n",
    "%  You should now implement the cost function for regularized linear \n",
    "##  regression. \n",
    "%\n",
    "\n",
    "theta = [1 ; 1];\n",
    "J = linearRegCostFunction([ones(m, 1) X], y, theta, 1);\n",
    "\n",
    "fprintf(['Cost at theta = [1 ; 1]: %f '...\n",
    "         '\\n(this value should be about 303.993192)\\n'], J);"
   ]
  },
  {
   "cell_type": "code",
   "execution_count": 29,
   "id": "8402ba87",
   "metadata": {},
   "outputs": [
    {
     "name": "stdout",
     "output_type": "stream",
     "text": [
      "Gradient at theta = [1 ; 1]:  [-15.303016; 598.250744] \n",
      "(this value should be about [-15.303016; 598.250744])\n"
     ]
    }
   ],
   "source": [
    "%% =========== Part 3: Regularized Linear Regression Gradient =============\n",
    "%  You should now implement the gradient for regularized linear \n",
    "%  regression.\n",
    "%\n",
    "\n",
    "theta = [1 ; 1];\n",
    "[J, grad] = linearRegCostFunction([ones(m, 1) X], y, theta, 1);\n",
    "\n",
    "fprintf(['Gradient at theta = [1 ; 1]:  [%f; %f] '...\n",
    "         '\\n(this value should be about [-15.303016; 598.250744])\\n'], ...\n",
    "         grad(1), grad(2));"
   ]
  },
  {
   "cell_type": "code",
   "execution_count": 30,
   "id": "f4203c74",
   "metadata": {},
   "outputs": [
    {
     "name": "stdout",
     "output_type": "stream",
     "text": [
      "Iteration     3 | Cost: 2.237391e+01\n"
     ]
    },
    {
     "data": {
      "image/png": "[encoded data removed]",
      "text/plain": [
       "<IPython.core.display.Image object>"
      ]
     },
     "metadata": {},
     "output_type": "display_data"
    }
   ],
   "source": [
    "%% =========== Part 4: Train Linear Regression =============\n",
    "%  Once you have implemented the cost and gradient correctly, the\n",
    "%  trainLinearReg function will use your cost function to train \n",
    "%  regularized linear regression.\n",
    "% \n",
    "%  Write Up Note: The data is non-linear, so this will not give a great \n",
    "%                 fit.\n",
    "%\n",
    "\n",
    "%  Train linear regression with lambda = 0\n",
    "lambda = 0;\n",
    "[theta] = trainLinearReg([ones(m, 1) X], y, lambda);\n",
    "\n",
    "%  Plot fit over the data\n",
    "figure(1)\n",
    "plot(X, y, 'rx', 'MarkerSize', 10, 'LineWidth', 1.5);\n",
    "xlabel('Change in water level (x)');\n",
    "ylabel('Water flowing out of the dam (y)');\n",
    "hold on;\n",
    "plot(X, [ones(m, 1) X]*theta, '--', 'LineWidth', 2)"
   ]
  },
  {
   "cell_type": "code",
   "execution_count": 31,
   "id": "1d5cd3df",
   "metadata": {},
   "outputs": [
    {
     "name": "stdout",
     "output_type": "stream",
     "text": [
      "Iteration     3 | Cost: 0.000000e+00\n",
      "Iteration     3 | Cost: 1.232595e-30\n",
      "Iteration     3 | Cost: 3.286595e+00\n",
      "Iteration    14 | Cost: 2.842678e+00\n",
      "Iteration    23 | Cost: 1.315405e+01\n",
      "Iteration    22 | Cost: 1.944396e+01\n",
      "Iteration    13 | Cost: 2.009852e+01\n",
      "Iteration   200 | Cost: 1.817286e+01\n",
      "Iteration     7 | Cost: 2.260941e+01\n",
      "Iteration    37 | Cost: 2.326146e+01\n",
      "Iteration    11 | Cost: 2.431725e+01\n",
      "Iteration     3 | Cost: 2.237391e+01\n"
     ]
    }
   ],
   "source": [
    "warning (\"off\", \"divide-by-zero\")\n",
    "%% =========== Part 5: Learning Curve for Linear Regression =============\n",
    "%  Next, you should implement the learningCurve function. \n",
    "%\n",
    "%  Write Up Note: Since the model is underfitting the data, we expect to\n",
    "%                 see a graph with \"high bias\" -- Figure 3 in ex5.pdf \n",
    "%\n",
    "\n",
    "lambda = 0;\n",
    "[error_train, error_val] = ...\n",
    "    learningCurve([ones(m, 1) X], y, ...\n",
    "                  [ones(size(Xval, 1), 1) Xval], yval, ...\n",
    "                  lambda);"
   ]
  },
  {
   "cell_type": "code",
   "execution_count": 32,
   "id": "4a30fadd",
   "metadata": {},
   "outputs": [],
   "source": [
    "error_train_lin_reg = error_train ;\n",
    "error_val_lin_reg = error_val;"
   ]
  },
  {
   "cell_type": "code",
   "execution_count": 34,
   "id": "994596b6",
   "metadata": {},
   "outputs": [
    {
     "data": {
      "image/png": "[encoded data removed]",
      "text/plain": [
       "<IPython.core.display.Image object>"
      ]
     },
     "metadata": {},
     "output_type": "display_data"
    }
   ],
   "source": [
    "figure(2)\n",
    "plot(1:m, error_train, 1:m, error_val);\n",
    "title('Learning curve for linear regression');\n",
    "legend('Train', 'Cross Validation');\n",
    "xlabel('Number of training examples');\n",
    "ylabel('Error');\n",
    "##axis([0 13 0 150])"
   ]
  },
  {
   "cell_type": "code",
   "execution_count": 35,
   "id": "da301b74",
   "metadata": {},
   "outputs": [
    {
     "name": "stdout",
     "output_type": "stream",
     "text": [
      "# Training Examples\tTrain Error\tCross Validation Error\n",
      "  \t1\t\t0.000000\t205.121096\n",
      "  \t2\t\t0.000000\t110.300366\n",
      "  \t3\t\t3.286595\t45.010231\n",
      "  \t4\t\t2.842678\t48.368911\n",
      "  \t5\t\t13.154049\t35.865165\n",
      "  \t6\t\t19.443963\t33.829962\n",
      "  \t7\t\t20.098522\t31.970986\n",
      "  \t8\t\t18.172859\t30.862446\n",
      "  \t9\t\t22.609405\t31.135998\n",
      "  \t10\t\t23.261462\t28.936207\n",
      "  \t11\t\t24.317250\t29.551432\n",
      "  \t12\t\t22.373906\t29.433818\n"
     ]
    }
   ],
   "source": [
    "fprintf('# Training Examples\\tTrain Error\\tCross Validation Error\\n');\n",
    "for i = 1:m\n",
    "    fprintf('  \\t%d\\t\\t%f\\t%f\\n', i, error_train(i), error_val(i));\n",
    "end"
   ]
  },
  {
   "cell_type": "code",
   "execution_count": 37,
   "id": "88e07e36",
   "metadata": {},
   "outputs": [
    {
     "name": "stdout",
     "output_type": "stream",
     "text": [
      "Normalized Training Example 1:\n",
      "  1.000000  \n",
      "  -0.362141  \n",
      "  -0.755087  \n",
      "  0.182226  \n",
      "  -0.706190  \n",
      "  0.306618  \n",
      "  -0.590878  \n",
      "  0.344516  \n",
      "  -0.508481  \n"
     ]
    }
   ],
   "source": [
    "%% =========== Part 6: Feature Mapping for Polynomial Regression =============\n",
    "%  One solution to this is to use polynomial regression. You should now\n",
    "%  complete polyFeatures to map each example into its powers\n",
    "%\n",
    "\n",
    "p = 8;\n",
    "\n",
    "% Map X onto Polynomial Features and Normalize\n",
    "X_poly = polyFeatures(X, p);\n",
    "[X_poly, mu, sigma] = featureNormalize(X_poly);  % Normalize\n",
    "X_poly = [ones(m, 1), X_poly];                   % Add Ones\n",
    "\n",
    "% Map X_poly_test and normalize (using mu and sigma)\n",
    "X_poly_test = polyFeatures(Xtest, p);\n",
    "X_poly_test = bsxfun(@minus, X_poly_test, mu);\n",
    "X_poly_test = bsxfun(@rdivide, X_poly_test, sigma);\n",
    "X_poly_test = [ones(size(X_poly_test, 1), 1), X_poly_test];         % Add Ones\n",
    "\n",
    "% Map X_poly_val and normalize (using mu and sigma)\n",
    "X_poly_val = polyFeatures(Xval, p);\n",
    "X_poly_val = bsxfun(@minus, X_poly_val, mu);\n",
    "X_poly_val = bsxfun(@rdivide, X_poly_val, sigma);\n",
    "X_poly_val = [ones(size(X_poly_val, 1), 1), X_poly_val];           % Add Ones\n",
    "\n",
    "fprintf('Normalized Training Example 1:\\n');\n",
    "fprintf('  %f  \\n', X_poly(1, :));"
   ]
  },
  {
   "cell_type": "code",
   "execution_count": 38,
   "id": "4c04193e",
   "metadata": {},
   "outputs": [
    {
     "name": "stdout",
     "output_type": "stream",
     "text": [
      "Iteration   200 | Cost: 1.774519e-01\n"
     ]
    },
    {
     "data": {
      "image/png": "[encoded data removed]",
      "text/plain": [
       "<IPython.core.display.Image object>"
      ]
     },
     "metadata": {},
     "output_type": "display_data"
    }
   ],
   "source": [
    "%% =========== Part 7: Learning Curve for Polynomial Regression =============\n",
    "%  Now, you will get to experiment with polynomial regression with multiple\n",
    "%  values of lambda. The code below runs polynomial regression with \n",
    "%  lambda = 0. You should try running the code with different values of\n",
    "%  lambda to see how the fit and learning curve change.\n",
    "%\n",
    "\n",
    "lambda = 0;\n",
    "[theta] = trainLinearReg(X_poly, y, lambda);\n",
    "\n",
    "% Plot training data and fit\n",
    "figure(1);\n",
    "%hold on\n",
    "plot(X, y, 'rx', 'MarkerSize', 10, 'LineWidth', 1.5);\n",
    "plotFit(min(X), max(X), mu, sigma, theta, p);\n",
    "xlabel('Change in water level (x)');\n",
    "ylabel('Water flowing out of the dam (y)');\n",
    "title (sprintf('Polynomial Regression Fit (lambda = %f)', lambda));"
   ]
  },
  {
   "cell_type": "code",
   "execution_count": null,
   "id": "994a2f83",
   "metadata": {},
   "outputs": [
    {
     "name": "stdout",
     "output_type": "stream",
     "text": [
      "Iteration     2 | Cost: 0.000000e+00\n",
      "Iteration    14 | Cost: 0.000000e+00\n",
      "Iteration    28 | Cost: 6.573841e-32\n",
      "Iteration     9 | Cost: 1.304086e-29\n",
      "Iteration   200 | Cost: 1.119109e-10\n",
      "Iteration   200 | Cost: 3.082891e-05\n",
      "Iteration   200 | Cost: 3.148071e-02\n",
      "Iteration   200 | Cost: 6.511896e-02\n",
      "Iteration   200 | Cost: 1.918221e-01\n",
      "Iteration   200 | Cost: 1.139489e-01\n",
      "Iteration   158 | Cost: 1.839930e-01"
     ]
    }
   ],
   "source": [
    "[error_train, error_val] = ...\n",
    "    learningCurve(X_poly, y, X_poly_val, yval, lambda)"
   ]
  },
  {
   "cell_type": "code",
   "execution_count": 40,
   "id": "ec9e0d35",
   "metadata": {},
   "outputs": [],
   "source": [
    "error_train_poly = error_train ;\n",
    "error_val_poly = error_val;"
   ]
  },
  {
   "cell_type": "code",
   "execution_count": 74,
   "id": "092596ba",
   "metadata": {},
   "outputs": [
    {
     "data": {
      "image/png": "[encoded data removed]",
      "text/plain": [
       "<IPython.core.display.Image object>"
      ]
     },
     "metadata": {},
     "output_type": "display_data"
    }
   ],
   "source": [
    "figure(2);\n",
    "hold on\n",
    "\n",
    "plot(1:m, error_train);\n",
    "\n",
    "plot( 1:m, error_val);\n",
    "title(sprintf('Polynomial Regression Learning Curve (lambda = %f)', lambda));\n",
    "xlabel('Number of training examples')\n",
    "ylabel('Error')\n",
    "axis([0 13 0 200])\n",
    "legend('Train', 'Cross Validation');\n",
    "scatter(1:m, error_train,600, 'b')\n",
    " % set (gca, \"yscale\", \"log\");"
   ]
  },
  {
   "cell_type": "code",
   "execution_count": 78,
   "id": "d0f94d71-96aa-4708-959f-3a7dcf77766c",
   "metadata": {},
   "outputs": [
    {
     "name": "stdout",
     "output_type": "stream",
     "text": [
      "warning: Non-positive limit for logarithmic axis ignored\n"
     ]
    },
    {
     "data": {
      "image/png": "[encoded data removed]",
      "text/plain": [
       "<IPython.core.display.Image object>"
      ]
     },
     "metadata": {},
     "output_type": "display_data"
    }
   ],
   "source": [
    "figure(2);\n",
    "hold on\n",
    "\n",
    "plot(1:m, error_train);\n",
    "\n",
    "plot( 1:m, error_val);\n",
    "title(sprintf('Polynomial Regression Learning Curve (lambda = %f)', lambda));\n",
    "xlabel('Number of training examples')\n",
    "ylabel('Error')\n",
    "axis([0 13 0 200])\n",
    "legend('Train', 'Cross Validation');\n",
    "scatter(1:m, error_train,600, 'b')\n",
    " set (gca, \"yscale\", \"log\");"
   ]
  },
  {
   "cell_type": "code",
   "execution_count": 80,
   "id": "34b23e73",
   "metadata": {},
   "outputs": [
    {
     "name": "stdout",
     "output_type": "stream",
     "text": [
      "Polynomial Regression (lambda = 0.000000)\n",
      "\n",
      "# Training Examples\tTrain Error\tCross Validation Error\n",
      "  \t1\t\t0.000000\t160.721900\n",
      "  \t2\t\t0.000000\t160.121510\n",
      "  \t3\t\t0.000000\t61.754825\n",
      "  \t4\t\t0.000000\t61.928895\n",
      "  \t5\t\t0.000000\t6.597568\n",
      "  \t6\t\t0.000031\t10.535311\n",
      "  \t7\t\t0.031481\t9.596765\n",
      "  \t8\t\t0.065119\t8.202909\n",
      "  \t9\t\t0.191822\t8.107255\n",
      "  \t10\t\t0.113949\t6.660176\n",
      "  \t11\t\t0.107094\t8.434388\n",
      "  \t12\t\t0.177452\t21.380103\n"
     ]
    }
   ],
   "source": [
    "fprintf('Polynomial Regression (lambda = %f)\\n\\n', lambda);\n",
    "fprintf('# Training Examples\\tTrain Error\\tCross Validation Error\\n');\n",
    "for i = 1:m\n",
    "    fprintf('  \\t%d\\t\\t%f\\t%f\\n', i, error_train(i), error_val(i));\n",
    "end"
   ]
  },
  {
   "cell_type": "code",
   "execution_count": null,
   "id": "c0b88713",
   "metadata": {},
   "outputs": [
    {
     "name": "stdout",
     "output_type": "stream",
     "text": [
      "Iteration   200 | Cost: 2.025252e-01\n",
      "Iteration   200 | Cost: 2.502534e-01\n",
      "Iteration   200 | Cost: 3.850708e-01\n",
      "Iteration   200 | Cost: 4.628082e-01\n",
      "Iteration   200 | Cost: 5.696457e-01\n",
      "Iteration   200 | Cost: 7.171056e-01\n",
      "Iteration   200 | Cost: 1.198806e+00\n",
      "Iteration   149 | Cost: 1.578045e+00\n",
      "Iteration    79 | Cost: 4.914923e+00Iteration    25 | Cost: 4.916528e+00\n",
      "Iteration    72 | Cost: 6.553615e+00\n",
      "Iteration    57 | Cost: 8.756942e+00\n",
      "Iteration    50 | Cost: 1.170355e+01\n",
      "Iteration    19 | Cost: 1.557101e+01"
     ]
    }
   ],
   "source": [
    "%% =========== Part 8: Validation for Selecting Lambda =============\n",
    "%  You will now implement validationCurve to test various values of \n",
    "%  lambda on a validation set. You will then use this to select the\n",
    "%  \"best\" lambda value.\n",
    "%\n",
    "\n",
    "[lambda_vec, error_train, error_val] = ...\n",
    "    validationCurve(X_poly, y, X_poly_val, yval);"
   ]
  },
  {
   "cell_type": "code",
   "execution_count": 85,
   "id": "77183e11",
   "metadata": {},
   "outputs": [
    {
     "data": {
      "image/png": "[encoded data removed]",
      "text/plain": [
       "<IPython.core.display.Image object>"
      ]
     },
     "metadata": {},
     "output_type": "display_data"
    }
   ],
   "source": [
    "figure(3)\n",
    "##plot(lambda_vec, error_train, lambda_vec, error_val);\n",
    "semilogx(lambda_vec, error_train, lambda_vec, error_val);\n",
    "legend('Train', 'Cross Validation');\n",
    "xlabel('lambda');\n",
    "ylabel('Error');"
   ]
  },
  {
   "cell_type": "code",
   "execution_count": 86,
   "id": "70f299c5",
   "metadata": {},
   "outputs": [
    {
     "name": "stdout",
     "output_type": "stream",
     "text": [
      "Minimum validation error is 3.8233\n",
      " for lambda = 2.9193\n"
     ]
    }
   ],
   "source": [
    "[min_err, idx] = min(error_val);\n",
    " \n",
    "printf('Minimum validation error is '), disp(min_err), printf(' for lambda = '), disp(lambda_vec(idx))"
   ]
  },
  {
   "cell_type": "code",
   "execution_count": 89,
   "id": "9b483307",
   "metadata": {},
   "outputs": [
    {
     "name": "stdout",
     "output_type": "stream",
     "text": [
      "lambda\t\tTrain Error\tValidation Error\n",
      " 0.001000\t0.177829\t20.030695\n",
      " 0.003000\t0.175303\t17.583106\n",
      " 0.010000\t0.222155\t17.003845\n",
      " 0.015000\t0.239447\t15.692835\n",
      " 0.022500\t0.261550\t14.094802\n",
      " 0.033750\t0.291761\t12.300663\n",
      " 0.050625\t0.335421\t10.465509\n",
      " 0.075938\t0.399405\t8.696146\n",
      " 0.113906\t0.493614\t7.100449\n",
      " 0.170859\t0.631303\t5.792970\n",
      " 0.256289\t0.827206\t4.875920\n",
      " 0.384434\t1.093565\t4.387923\n",
      " 0.576650\t1.439804\t4.248742\n",
      " 0.864976\t1.884485\t4.262461\n",
      " 1.297463\t2.483242\t4.211375\n",
      " 1.946195\t3.367319\t4.005343\n",
      " 2.919293\t4.779113\t3.823319\n",
      " 4.378939\t7.078572\t4.188655\n",
      " 10.000000\t16.092213\t9.945509\n"
     ]
    }
   ],
   "source": [
    "fprintf('lambda\\t\\tTrain Error\\tValidation Error\\n');\n",
    "for i = 1:length(lambda_vec)\n",
    "\tfprintf(' %f\\t%f\\t%f\\n', ...\n",
    "            lambda_vec(i), error_train(i), error_val(i));\n",
    "end"
   ]
  },
  {
   "cell_type": "code",
   "execution_count": 90,
   "id": "95123f43",
   "metadata": {
    "scrolled": true
   },
   "outputs": [
    {
     "name": "stdout",
     "output_type": "stream",
     "text": [
      "Iteration    39 | Cost: 1.586769e+01\n"
     ]
    }
   ],
   "source": [
    "lambda = 3;\n",
    "\n",
    "[theta] = trainLinearReg(X_poly, y, lambda);"
   ]
  },
  {
   "cell_type": "code",
   "execution_count": 91,
   "id": "9fc5623b",
   "metadata": {
    "scrolled": true
   },
   "outputs": [
    {
     "data": {
      "image/png": "[encoded data removed]",
      "text/plain": [
       "<IPython.core.display.Image object>"
      ]
     },
     "metadata": {},
     "output_type": "display_data"
    }
   ],
   "source": [
    "% Plot training data and fit\n",
    "figure(1);\n",
    "hold on\n",
    "plot(X, y, 'rx', 'MarkerSize', 10, 'LineWidth', 1.5);\n",
    "plotFit(min(X), max(X), mu, sigma, theta, p);\n",
    "ylim([-10 50])\n",
    "xlabel('Change in water level (x)');\n",
    "ylabel('Water flowing out of the dam (y)');\n",
    "title (sprintf('Polynomial Regression Fit (lambda = %f)', lambda));\n",
    "hold off"
   ]
  },
  {
   "cell_type": "code",
   "execution_count": 93,
   "id": "d1fdb58e",
   "metadata": {
    "scrolled": true
   },
   "outputs": [
    {
     "name": "stdout",
     "output_type": "stream",
     "text": [
      "Iteration    35 | Cost: 0.000000e+004\n",
      "Iteration     4 | Cost: 9.652732e-02\n",
      "Iteration    23 | Cost: 4.227606e+01\n",
      "Iteration    28 | Cost: 3.633904e+01\n",
      "Iteration    45 | Cost: 2.909662e+01\n",
      "Iteration    24 | Cost: 2.578654e+01\n",
      "Iteration    16 | Cost: 2.269255e+01\n",
      "Iteration    28 | Cost: 1.992017e+01\n",
      "Iteration    42 | Cost: 1.851490e+01\n",
      "Iteration    53 | Cost: 1.668588e+01\n",
      "Iteration    52 | Cost: 1.519306e+01\n",
      "Iteration    39 | Cost: 1.586769e+01\n"
     ]
    }
   ],
   "source": [
    "[error_train, error_val] = ...\n",
    "    learningCurve(X_poly, y, X_poly_val, yval, lambda);"
   ]
  },
  {
   "cell_type": "code",
   "execution_count": 101,
   "id": "3460c521",
   "metadata": {},
   "outputs": [
    {
     "data": {
      "image/png": "[encoded data removed]",
      "text/plain": [
       "<IPython.core.display.Image object>"
      ]
     },
     "metadata": {},
     "output_type": "display_data"
    }
   ],
   "source": [
    "figure(2);\n",
    "hold on\n",
    "plot(1:m, error_train_lin_reg,'linewidth',4, 1:m, error_val_lin_reg,'linewidth',4);\n",
    "\n",
    "plot(1:m, error_train_poly,'linewidth',4, 1:m, error_val_poly,'linewidth',4);\n",
    "\n",
    "plot(1:m, error_train,'linewidth',4, 1:m, error_val,'linewidth',4);\n",
    "\n",
    "title(sprintf('Polynomial Regression Learning Curve (lambda = %f)', lambda));\n",
    "xlabel('Number of training examples')\n",
    "ylabel('Error')\n",
    "%grid()\n",
    "axis([0 13 0 100])\n",
    "h=legend('Train linear lambda = 0, high bias', 'CV linear lambda = 0, high bias', 'Train poly lambda = 0, high variance', 'CV poly lambda = 0, high variance', 'Train lambda = 0.25, best fit', 'CV lambda = 0.25, best fit');\n",
    "set (h, \"fontsize\", 11);"
   ]
  },
  {
   "cell_type": "code",
   "execution_count": 103,
   "id": "0228cc7f",
   "metadata": {},
   "outputs": [
    {
     "name": "stdout",
     "output_type": "stream",
     "text": [
      "Polynomial Regression (lambda = 3.000000)\n",
      "\n",
      "Cost in test set using lambda = 3\n",
      "3.8599\n"
     ]
    }
   ],
   "source": [
    "fprintf('Polynomial Regression (lambda = %f)\\n\\n', lambda);\n",
    "\n",
    "fprintf('Cost in test set using lambda = '), disp(lambda), disp(linearRegCostFunction(X_poly_test, ytest, theta, 0));"
   ]
  },
  {
   "cell_type": "code",
   "execution_count": null,
   "id": "65d39715",
   "metadata": {},
   "outputs": [],
   "source": []
  }
 ],
 "metadata": {
  "kernelspec": {
   "display_name": "Octave",
   "language": "octave",
   "name": "octave"
  },
  "language_info": {
   "file_extension": ".m",
   "help_links": [
    {
     "text": "GNU Octave",
     "url": "https://www.gnu.org/software/octave/support.html"
    },
    {
     "text": "Octave Kernel",
     "url": "https://github.com/Calysto/octave_kernel"
    },
    {
     "text": "MetaKernel Magics",
     "url": "https://metakernel.readthedocs.io/en/latest/source/README.html"
    }
   ],
   "mimetype": "text/x-octave",
   "name": "octave",
   "version": "6.4.0"
  }
 },
 "nbformat": 4,
 "nbformat_minor": 5
}
